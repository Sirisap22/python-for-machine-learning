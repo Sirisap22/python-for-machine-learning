{
  "nbformat": 4,
  "nbformat_minor": 0,
  "metadata": {
    "colab": {
      "name": "Week3_exercise_solution.ipynb",
      "provenance": [],
      "collapsed_sections": []
    },
    "kernelspec": {
      "display_name": "Python 3",
      "language": "python",
      "name": "python3"
    },
    "language_info": {
      "codemirror_mode": {
        "name": "ipython",
        "version": 3
      },
      "file_extension": ".py",
      "mimetype": "text/x-python",
      "name": "python",
      "nbconvert_exporter": "python",
      "pygments_lexer": "ipython3",
      "version": "3.7.6"
    }
  },
  "cells": [
    {
      "cell_type": "markdown",
      "metadata": {
        "id": "x-T5hfDV9VFb"
      },
      "source": [
        "## Import Library"
      ]
    },
    {
      "cell_type": "code",
      "metadata": {
        "id": "NrIXl2-b9VFk"
      },
      "source": [
        "import pandas as pd\n",
        "import numpy as np\n",
        "import seaborn as sns\n",
        "import matplotlib.pyplot as plt\n",
        "from sklearn.linear_model import LinearRegression\n",
        "from sklearn.model_selection import train_test_split\n",
        "from sklearn import metrics"
      ],
      "execution_count": 1,
      "outputs": []
    },
    {
      "cell_type": "markdown",
      "metadata": {
        "id": "DbrZzTv1WaVs"
      },
      "source": [
        "# Simple Linear Regression"
      ]
    },
    {
      "cell_type": "markdown",
      "metadata": {
        "id": "ETW-p_Wcpyc2"
      },
      "source": [
        "**นำเข้าข้อมูลไฟล์ bmi_and_life_expectancy**"
      ]
    },
    {
      "cell_type": "code",
      "metadata": {
        "id": "TBnB_j6AVqTx"
      },
      "source": [
        "data = pd.read_csv('bmi_and_life_expectancy.csv')"
      ],
      "execution_count": 2,
      "outputs": []
    },
    {
      "cell_type": "code",
      "metadata": {
        "colab": {
          "base_uri": "https://localhost:8080/",
          "height": 417
        },
        "id": "a5giVQuT3ZgA",
        "outputId": "47495958-0ee7-4597-e1a3-1df8bbbb8a40"
      },
      "source": [
        "data"
      ],
      "execution_count": 3,
      "outputs": [
        {
          "output_type": "execute_result",
          "data": {
            "text/html": [
              "<div>\n",
              "<style scoped>\n",
              "    .dataframe tbody tr th:only-of-type {\n",
              "        vertical-align: middle;\n",
              "    }\n",
              "\n",
              "    .dataframe tbody tr th {\n",
              "        vertical-align: top;\n",
              "    }\n",
              "\n",
              "    .dataframe thead th {\n",
              "        text-align: right;\n",
              "    }\n",
              "</style>\n",
              "<table border=\"1\" class=\"dataframe\">\n",
              "  <thead>\n",
              "    <tr style=\"text-align: right;\">\n",
              "      <th></th>\n",
              "      <th>Country</th>\n",
              "      <th>Life expectancy</th>\n",
              "      <th>BMI</th>\n",
              "    </tr>\n",
              "  </thead>\n",
              "  <tbody>\n",
              "    <tr>\n",
              "      <th>0</th>\n",
              "      <td>Afghanistan</td>\n",
              "      <td>52.8</td>\n",
              "      <td>20.62058</td>\n",
              "    </tr>\n",
              "    <tr>\n",
              "      <th>1</th>\n",
              "      <td>Albania</td>\n",
              "      <td>76.8</td>\n",
              "      <td>26.44657</td>\n",
              "    </tr>\n",
              "    <tr>\n",
              "      <th>2</th>\n",
              "      <td>Algeria</td>\n",
              "      <td>75.5</td>\n",
              "      <td>24.59620</td>\n",
              "    </tr>\n",
              "    <tr>\n",
              "      <th>3</th>\n",
              "      <td>Andorra</td>\n",
              "      <td>84.6</td>\n",
              "      <td>27.63048</td>\n",
              "    </tr>\n",
              "    <tr>\n",
              "      <th>4</th>\n",
              "      <td>Angola</td>\n",
              "      <td>56.7</td>\n",
              "      <td>22.25083</td>\n",
              "    </tr>\n",
              "    <tr>\n",
              "      <th>...</th>\n",
              "      <td>...</td>\n",
              "      <td>...</td>\n",
              "      <td>...</td>\n",
              "    </tr>\n",
              "    <tr>\n",
              "      <th>158</th>\n",
              "      <td>Vanuatu</td>\n",
              "      <td>63.4</td>\n",
              "      <td>26.78926</td>\n",
              "    </tr>\n",
              "    <tr>\n",
              "      <th>159</th>\n",
              "      <td>West Bank and Gaza</td>\n",
              "      <td>74.1</td>\n",
              "      <td>26.57750</td>\n",
              "    </tr>\n",
              "    <tr>\n",
              "      <th>160</th>\n",
              "      <td>Vietnam</td>\n",
              "      <td>74.1</td>\n",
              "      <td>20.91630</td>\n",
              "    </tr>\n",
              "    <tr>\n",
              "      <th>161</th>\n",
              "      <td>Zambia</td>\n",
              "      <td>51.1</td>\n",
              "      <td>20.68321</td>\n",
              "    </tr>\n",
              "    <tr>\n",
              "      <th>162</th>\n",
              "      <td>Zimbabwe</td>\n",
              "      <td>47.3</td>\n",
              "      <td>22.02660</td>\n",
              "    </tr>\n",
              "  </tbody>\n",
              "</table>\n",
              "<p>163 rows × 3 columns</p>\n",
              "</div>"
            ],
            "text/plain": [
              "                Country  Life expectancy       BMI\n",
              "0           Afghanistan             52.8  20.62058\n",
              "1               Albania             76.8  26.44657\n",
              "2               Algeria             75.5  24.59620\n",
              "3               Andorra             84.6  27.63048\n",
              "4                Angola             56.7  22.25083\n",
              "..                  ...              ...       ...\n",
              "158             Vanuatu             63.4  26.78926\n",
              "159  West Bank and Gaza             74.1  26.57750\n",
              "160             Vietnam             74.1  20.91630\n",
              "161              Zambia             51.1  20.68321\n",
              "162            Zimbabwe             47.3  22.02660\n",
              "\n",
              "[163 rows x 3 columns]"
            ]
          },
          "metadata": {},
          "execution_count": 3
        }
      ]
    },
    {
      "cell_type": "markdown",
      "metadata": {
        "id": "S2y7x2wuqDJ8"
      },
      "source": [
        "**ใช้ head() descibe() info() เพื่อดูข้อมูลเบื้องต้น**"
      ]
    },
    {
      "cell_type": "code",
      "metadata": {
        "id": "IttxkrFEVrXq",
        "colab": {
          "base_uri": "https://localhost:8080/",
          "height": 203
        },
        "outputId": "dc1d67dd-1ced-49a0-bb7e-84f6ed12de2c"
      },
      "source": [
        "data.head()"
      ],
      "execution_count": 4,
      "outputs": [
        {
          "output_type": "execute_result",
          "data": {
            "text/html": [
              "<div>\n",
              "<style scoped>\n",
              "    .dataframe tbody tr th:only-of-type {\n",
              "        vertical-align: middle;\n",
              "    }\n",
              "\n",
              "    .dataframe tbody tr th {\n",
              "        vertical-align: top;\n",
              "    }\n",
              "\n",
              "    .dataframe thead th {\n",
              "        text-align: right;\n",
              "    }\n",
              "</style>\n",
              "<table border=\"1\" class=\"dataframe\">\n",
              "  <thead>\n",
              "    <tr style=\"text-align: right;\">\n",
              "      <th></th>\n",
              "      <th>Country</th>\n",
              "      <th>Life expectancy</th>\n",
              "      <th>BMI</th>\n",
              "    </tr>\n",
              "  </thead>\n",
              "  <tbody>\n",
              "    <tr>\n",
              "      <th>0</th>\n",
              "      <td>Afghanistan</td>\n",
              "      <td>52.8</td>\n",
              "      <td>20.62058</td>\n",
              "    </tr>\n",
              "    <tr>\n",
              "      <th>1</th>\n",
              "      <td>Albania</td>\n",
              "      <td>76.8</td>\n",
              "      <td>26.44657</td>\n",
              "    </tr>\n",
              "    <tr>\n",
              "      <th>2</th>\n",
              "      <td>Algeria</td>\n",
              "      <td>75.5</td>\n",
              "      <td>24.59620</td>\n",
              "    </tr>\n",
              "    <tr>\n",
              "      <th>3</th>\n",
              "      <td>Andorra</td>\n",
              "      <td>84.6</td>\n",
              "      <td>27.63048</td>\n",
              "    </tr>\n",
              "    <tr>\n",
              "      <th>4</th>\n",
              "      <td>Angola</td>\n",
              "      <td>56.7</td>\n",
              "      <td>22.25083</td>\n",
              "    </tr>\n",
              "  </tbody>\n",
              "</table>\n",
              "</div>"
            ],
            "text/plain": [
              "       Country  Life expectancy       BMI\n",
              "0  Afghanistan             52.8  20.62058\n",
              "1      Albania             76.8  26.44657\n",
              "2      Algeria             75.5  24.59620\n",
              "3      Andorra             84.6  27.63048\n",
              "4       Angola             56.7  22.25083"
            ]
          },
          "metadata": {},
          "execution_count": 4
        }
      ]
    },
    {
      "cell_type": "code",
      "metadata": {
        "id": "_eTqgSbrVs0V",
        "colab": {
          "base_uri": "https://localhost:8080/",
          "height": 295
        },
        "outputId": "bff55caf-dd31-45eb-b98d-064a0821b031"
      },
      "source": [
        "data.describe()"
      ],
      "execution_count": 5,
      "outputs": [
        {
          "output_type": "execute_result",
          "data": {
            "text/html": [
              "<div>\n",
              "<style scoped>\n",
              "    .dataframe tbody tr th:only-of-type {\n",
              "        vertical-align: middle;\n",
              "    }\n",
              "\n",
              "    .dataframe tbody tr th {\n",
              "        vertical-align: top;\n",
              "    }\n",
              "\n",
              "    .dataframe thead th {\n",
              "        text-align: right;\n",
              "    }\n",
              "</style>\n",
              "<table border=\"1\" class=\"dataframe\">\n",
              "  <thead>\n",
              "    <tr style=\"text-align: right;\">\n",
              "      <th></th>\n",
              "      <th>Life expectancy</th>\n",
              "      <th>BMI</th>\n",
              "    </tr>\n",
              "  </thead>\n",
              "  <tbody>\n",
              "    <tr>\n",
              "      <th>count</th>\n",
              "      <td>163.000000</td>\n",
              "      <td>163.000000</td>\n",
              "    </tr>\n",
              "    <tr>\n",
              "      <th>mean</th>\n",
              "      <td>69.666933</td>\n",
              "      <td>24.792378</td>\n",
              "    </tr>\n",
              "    <tr>\n",
              "      <th>std</th>\n",
              "      <td>8.981933</td>\n",
              "      <td>2.427900</td>\n",
              "    </tr>\n",
              "    <tr>\n",
              "      <th>min</th>\n",
              "      <td>44.500000</td>\n",
              "      <td>19.866920</td>\n",
              "    </tr>\n",
              "    <tr>\n",
              "      <th>25%</th>\n",
              "      <td>63.450000</td>\n",
              "      <td>22.527940</td>\n",
              "    </tr>\n",
              "    <tr>\n",
              "      <th>50%</th>\n",
              "      <td>71.800000</td>\n",
              "      <td>25.320540</td>\n",
              "    </tr>\n",
              "    <tr>\n",
              "      <th>75%</th>\n",
              "      <td>76.500000</td>\n",
              "      <td>26.603960</td>\n",
              "    </tr>\n",
              "    <tr>\n",
              "      <th>max</th>\n",
              "      <td>84.600000</td>\n",
              "      <td>30.995630</td>\n",
              "    </tr>\n",
              "  </tbody>\n",
              "</table>\n",
              "</div>"
            ],
            "text/plain": [
              "       Life expectancy         BMI\n",
              "count       163.000000  163.000000\n",
              "mean         69.666933   24.792378\n",
              "std           8.981933    2.427900\n",
              "min          44.500000   19.866920\n",
              "25%          63.450000   22.527940\n",
              "50%          71.800000   25.320540\n",
              "75%          76.500000   26.603960\n",
              "max          84.600000   30.995630"
            ]
          },
          "metadata": {},
          "execution_count": 5
        }
      ]
    },
    {
      "cell_type": "code",
      "metadata": {
        "id": "RUBupD1XVuW0",
        "colab": {
          "base_uri": "https://localhost:8080/"
        },
        "outputId": "0c5745f4-7ec8-4deb-a567-06c8b1b76888"
      },
      "source": [
        "data.info()"
      ],
      "execution_count": 6,
      "outputs": [
        {
          "output_type": "stream",
          "name": "stdout",
          "text": [
            "<class 'pandas.core.frame.DataFrame'>\n",
            "RangeIndex: 163 entries, 0 to 162\n",
            "Data columns (total 3 columns):\n",
            " #   Column           Non-Null Count  Dtype  \n",
            "---  ------           --------------  -----  \n",
            " 0   Country          163 non-null    object \n",
            " 1   Life expectancy  163 non-null    float64\n",
            " 2   BMI              163 non-null    float64\n",
            "dtypes: float64(2), object(1)\n",
            "memory usage: 3.9+ KB\n"
          ]
        }
      ]
    },
    {
      "cell_type": "markdown",
      "metadata": {
        "id": "hgJzPkt6qR3X"
      },
      "source": [
        "**ใช้ pairplot เพื่อดูความสัมพันธ์ทุกคู่ตัวแปรใน data set** "
      ]
    },
    {
      "cell_type": "code",
      "metadata": {
        "id": "jis5hy6IV0Sa",
        "colab": {
          "base_uri": "https://localhost:8080/",
          "height": 391
        },
        "outputId": "e3e84093-a049-4269-dd95-8072b0c3f28b"
      },
      "source": [
        "sns.pairplot(data)"
      ],
      "execution_count": 7,
      "outputs": [
        {
          "output_type": "execute_result",
          "data": {
            "text/plain": [
              "<seaborn.axisgrid.PairGrid at 0x7fe8b3c9e210>"
            ]
          },
          "metadata": {},
          "execution_count": 7
        },
        {
          "output_type": "display_data",
          "data": {
            "image/png": "[encoded data removed]",
            "text/plain": [
              "<Figure size 360x360 with 6 Axes>"
            ]
          },
          "metadata": {
            "needs_background": "light"
          }
        }
      ]
    },
    {
      "cell_type": "markdown",
      "metadata": {
        "id": "e5tpHR3Iqvde"
      },
      "source": [
        "**กำหนดตัวแปรต้น (X) : (BMI) และตัวแปรตาม (y) : (Life expectancy)**"
      ]
    },
    {
      "cell_type": "code",
      "metadata": {
        "id": "sgrwj4HKV14F",
        "colab": {
          "base_uri": "https://localhost:8080/",
          "height": 417
        },
        "outputId": "95285944-c6c5-415b-a26c-cfda05459644"
      },
      "source": [
        "X = data[['BMI']]\n",
        "X"
      ],
      "execution_count": 8,
      "outputs": [
        {
          "output_type": "execute_result",
          "data": {
            "text/html": [
              "<div>\n",
              "<style scoped>\n",
              "    .dataframe tbody tr th:only-of-type {\n",
              "        vertical-align: middle;\n",
              "    }\n",
              "\n",
              "    .dataframe tbody tr th {\n",
              "        vertical-align: top;\n",
              "    }\n",
              "\n",
              "    .dataframe thead th {\n",
              "        text-align: right;\n",
              "    }\n",
              "</style>\n",
              "<table border=\"1\" class=\"dataframe\">\n",
              "  <thead>\n",
              "    <tr style=\"text-align: right;\">\n",
              "      <th></th>\n",
              "      <th>BMI</th>\n",
              "    </tr>\n",
              "  </thead>\n",
              "  <tbody>\n",
              "    <tr>\n",
              "      <th>0</th>\n",
              "      <td>20.62058</td>\n",
              "    </tr>\n",
              "    <tr>\n",
              "      <th>1</th>\n",
              "      <td>26.44657</td>\n",
              "    </tr>\n",
              "    <tr>\n",
              "      <th>2</th>\n",
              "      <td>24.59620</td>\n",
              "    </tr>\n",
              "    <tr>\n",
              "      <th>3</th>\n",
              "      <td>27.63048</td>\n",
              "    </tr>\n",
              "    <tr>\n",
              "      <th>4</th>\n",
              "      <td>22.25083</td>\n",
              "    </tr>\n",
              "    <tr>\n",
              "      <th>...</th>\n",
              "      <td>...</td>\n",
              "    </tr>\n",
              "    <tr>\n",
              "      <th>158</th>\n",
              "      <td>26.78926</td>\n",
              "    </tr>\n",
              "    <tr>\n",
              "      <th>159</th>\n",
              "      <td>26.57750</td>\n",
              "    </tr>\n",
              "    <tr>\n",
              "      <th>160</th>\n",
              "      <td>20.91630</td>\n",
              "    </tr>\n",
              "    <tr>\n",
              "      <th>161</th>\n",
              "      <td>20.68321</td>\n",
              "    </tr>\n",
              "    <tr>\n",
              "      <th>162</th>\n",
              "      <td>22.02660</td>\n",
              "    </tr>\n",
              "  </tbody>\n",
              "</table>\n",
              "<p>163 rows × 1 columns</p>\n",
              "</div>"
            ],
            "text/plain": [
              "          BMI\n",
              "0    20.62058\n",
              "1    26.44657\n",
              "2    24.59620\n",
              "3    27.63048\n",
              "4    22.25083\n",
              "..        ...\n",
              "158  26.78926\n",
              "159  26.57750\n",
              "160  20.91630\n",
              "161  20.68321\n",
              "162  22.02660\n",
              "\n",
              "[163 rows x 1 columns]"
            ]
          },
          "metadata": {},
          "execution_count": 8
        }
      ]
    },
    {
      "cell_type": "code",
      "metadata": {
        "colab": {
          "base_uri": "https://localhost:8080/"
        },
        "id": "6afloAwzFDmD",
        "outputId": "5652a67f-ecf6-45a6-b97d-27fe74919d1f"
      },
      "source": [
        "y = data['Life expectancy']\n",
        "y"
      ],
      "execution_count": 9,
      "outputs": [
        {
          "output_type": "execute_result",
          "data": {
            "text/plain": [
              "0      52.8\n",
              "1      76.8\n",
              "2      75.5\n",
              "3      84.6\n",
              "4      56.7\n",
              "       ... \n",
              "158    63.4\n",
              "159    74.1\n",
              "160    74.1\n",
              "161    51.1\n",
              "162    47.3\n",
              "Name: Life expectancy, Length: 163, dtype: float64"
            ]
          },
          "metadata": {},
          "execution_count": 9
        }
      ]
    },
    {
      "cell_type": "markdown",
      "metadata": {
        "id": "8oLkGOferVL2"
      },
      "source": [
        "<!-- **Use model_selection.train_test_split from sklearn to split the data into training and testing sets. Set test_size=0.3 and random_state=101** -->\n",
        "\n",
        "**แบ่งข้อมูลเป็น 2 ชุดคือ Training Data กับ Testing Data โดยใช้คำสั่ง `train_test_split` โดยให้ `test_size=0.3` และ `random_state=0`**"
      ]
    },
    {
      "cell_type": "code",
      "metadata": {
        "id": "fwIYyPAvV90_"
      },
      "source": [
        "X_train, X_test, y_train, y_test = train_test_split(X, y, test_size=0.3, random_state=0)"
      ],
      "execution_count": 10,
      "outputs": []
    },
    {
      "cell_type": "markdown",
      "metadata": {
        "id": "7MHF1EYYJqXT"
      },
      "source": [
        "**สร้าง instance ของ class LinearRegression และทำการ fit model โดยใช้ fit()**"
      ]
    },
    {
      "cell_type": "code",
      "metadata": {
        "id": "UvfzQ8JZo3p-",
        "colab": {
          "base_uri": "https://localhost:8080/"
        },
        "outputId": "178961d6-6b0a-4411-8c96-529acb2273b8"
      },
      "source": [
        "model = LinearRegression()\n",
        "model.fit(X_train, y_train)"
      ],
      "execution_count": 11,
      "outputs": [
        {
          "output_type": "execute_result",
          "data": {
            "text/plain": [
              "LinearRegression(copy_X=True, fit_intercept=True, n_jobs=None, normalize=False)"
            ]
          },
          "metadata": {},
          "execution_count": 11
        }
      ]
    },
    {
      "cell_type": "markdown",
      "metadata": {
        "id": "phtOWYhsrqGD"
      },
      "source": [
        "**ตรวจสอบ coefficients ของโมเดล**"
      ]
    },
    {
      "cell_type": "code",
      "metadata": {
        "id": "4w_XBVPAWCnV",
        "colab": {
          "base_uri": "https://localhost:8080/"
        },
        "outputId": "fbe4b792-f74f-4d9a-bdc2-87dc2143ef7c"
      },
      "source": [
        "model.coef_"
      ],
      "execution_count": 12,
      "outputs": [
        {
          "output_type": "execute_result",
          "data": {
            "text/plain": [
              "array([2.90926417])"
            ]
          },
          "metadata": {},
          "execution_count": 12
        }
      ]
    },
    {
      "cell_type": "markdown",
      "metadata": {
        "id": "v4RXiXMyrxyb"
      },
      "source": [
        "**Predicting Test Data ใช้โมเดลที่เราได้มาพยากรณ์ผลลัพธ์ test data โดยใช้ predict()**"
      ]
    },
    {
      "cell_type": "code",
      "metadata": {
        "id": "0z_q_JUtWGzc"
      },
      "source": [
        "y_pred = model.predict(X_test)"
      ],
      "execution_count": 13,
      "outputs": []
    },
    {
      "cell_type": "markdown",
      "metadata": {
        "id": "Qv8naujLr_gD"
      },
      "source": [
        "**วาด scatterplot เพื่อเปรียบเทียบ y_test และ y_pred**"
      ]
    },
    {
      "cell_type": "code",
      "metadata": {
        "id": "FIw44R5bWI3x",
        "colab": {
          "base_uri": "https://localhost:8080/",
          "height": 296
        },
        "outputId": "b202079e-5792-439f-8fc8-bfa115a1017c"
      },
      "source": [
        "plt.scatter(y_test, y_pred)\n",
        "plt.plot(y_pred, y_pred)\n",
        "plt.xlabel('Y Test')\n",
        "plt.ylabel('Y Predicted')"
      ],
      "execution_count": 14,
      "outputs": [
        {
          "output_type": "execute_result",
          "data": {
            "text/plain": [
              "Text(0, 0.5, 'Y Predicted')"
            ]
          },
          "metadata": {},
          "execution_count": 14
        },
        {
          "output_type": "display_data",
          "data": {
            "image/png": "[encoded data removed]",
            "text/plain": [
              "<Figure size 432x288 with 1 Axes>"
            ]
          },
          "metadata": {
            "needs_background": "light"
          }
        }
      ]
    },
    {
      "cell_type": "markdown",
      "metadata": {
        "id": "EMZT3GYOsZ9o"
      },
      "source": [
        "**ประเมินความถูกต้องของโมเดล ด้วยการคำนวณค่า MAE, MSE, RMSE**"
      ]
    },
    {
      "cell_type": "code",
      "metadata": {
        "id": "dLOehKLdWLLV",
        "colab": {
          "base_uri": "https://localhost:8080/"
        },
        "outputId": "ab277cc2-5b81-44c1-b1ba-32f178eae956"
      },
      "source": [
        "# Code here\n",
        "mae = metrics.median_absolute_error(y_test, y_pred)\n",
        "mse = metrics.mean_squared_error(y_test, y_pred)\n",
        "rmse = np.sqrt(mse)\n",
        "\n",
        "print(f'Mean Absolute Error: {mae}')\n",
        "print(f'Mean Square Error: {mse}')\n",
        "print(f'Root Mean Square Error : {rmse}')"
      ],
      "execution_count": 15,
      "outputs": [
        {
          "output_type": "stream",
          "name": "stdout",
          "text": [
            "Mean Absolute Error: 3.8629537387772643\n",
            "Mean Square Error: 58.681157439964096\n",
            "Root Mean Square Error : 7.660362748588613\n"
          ]
        }
      ]
    },
    {
      "cell_type": "code",
      "metadata": {
        "colab": {
          "base_uri": "https://localhost:8080/"
        },
        "id": "Eoy38PkjDS1P",
        "outputId": "32625158-791a-4d8b-a42c-19619da86d38"
      },
      "source": [
        "y.describe()"
      ],
      "execution_count": 16,
      "outputs": [
        {
          "output_type": "execute_result",
          "data": {
            "text/plain": [
              "count    163.000000\n",
              "mean      69.666933\n",
              "std        8.981933\n",
              "min       44.500000\n",
              "25%       63.450000\n",
              "50%       71.800000\n",
              "75%       76.500000\n",
              "max       84.600000\n",
              "Name: Life expectancy, dtype: float64"
            ]
          },
          "metadata": {},
          "execution_count": 16
        }
      ]
    },
    {
      "cell_type": "markdown",
      "metadata": {
        "id": "6QVKpfRTLLKX"
      },
      "source": [
        "**จงเขียน สมการ regression ในรูปแบบ `y = w0 + w1x`**"
      ]
    },
    {
      "cell_type": "code",
      "metadata": {
        "id": "Lk9yTy7GLMSQ",
        "colab": {
          "base_uri": "https://localhost:8080/"
        },
        "outputId": "9110b895-da05-4457-dc0c-ffccd105a6fd"
      },
      "source": [
        "print('y = {} + {}x'.format(model.intercept_, model.coef_[0]))"
      ],
      "execution_count": 17,
      "outputs": [
        {
          "output_type": "stream",
          "name": "stdout",
          "text": [
            "y = -2.3900315653152404 + 2.9092641664551318x\n"
          ]
        }
      ]
    },
    {
      "cell_type": "markdown",
      "metadata": {
        "id": "fLuMXjBzs08r"
      },
      "source": [
        "**ทดลอง predict ด้วยค่าใดก็ได้เพื่อดูผลลัพธ์ค่า `Life expectancy`**"
      ]
    },
    {
      "cell_type": "code",
      "metadata": {
        "id": "TResmSbstZ2z",
        "colab": {
          "base_uri": "https://localhost:8080/"
        },
        "outputId": "4a6292dd-73b2-4fc7-e5f1-5eae7baa7c16"
      },
      "source": [
        "model.predict([[10]])"
      ],
      "execution_count": 18,
      "outputs": [
        {
          "output_type": "execute_result",
          "data": {
            "text/plain": [
              "array([26.7026101])"
            ]
          },
          "metadata": {},
          "execution_count": 18
        }
      ]
    },
    {
      "cell_type": "markdown",
      "metadata": {
        "id": "zh_aw1sp_G5I"
      },
      "source": [
        "# Multiple Linear Regression\n",
        "\n",
        "ตลาดอสังหาริมทรัพย์ในซิดนีย์และเมลเบิร์นนําเสนอโอกาสที่น่าสนใจสําหรับนักวิเคราะห์ข้อมูลในการวิเคราะห์และคาดการณ์ว่าราคาอสังหาริมทรัพย์จะเป็นไปอย่างไร การคาดการณ์ราคาอสังหาริมทรัพย์กําลังมีความสําคัญและเป็นประโยชน์มากขึ้นเพราะราคาอสังหาริมทรัพย์เป็นตัวบ่งชี้ที่ดีของทั้งสภาพตลาดโดยรวมและสุขภาพทางเศรษฐกิจของประเทศ"
      ]
    },
    {
      "cell_type": "markdown",
      "metadata": {
        "id": "2yaGGeeSAtJ0"
      },
      "source": [
        "## Data Exploration\n",
        "Data มีทั้งหมด 18 คอลัมน์ดังนี้\n",
        "\n",
        "* date : วันที่ขาย\n",
        "* price (target) : ราคาบ้าน (ตัวแปรตาม)\n",
        "* bedrooms : จำนวนห้องนอน\n",
        "* bathrooms : จำนวนห้องน้ำ\n",
        "* sqft_living : พื่นที่บ้าน (ตารางฟุต)\n",
        "* sqft_lot : ขนาดที่ดิน (ตารางฟุต)\n",
        "* floors : จำนวนชั้น\n",
        "* waterfront : วิวริมน้ำ\n",
        "* view : จำนวนการดู\n",
        "* condition : สภาพ\n",
        "* sqft_above : พื้นที่ของบ้านนอกเหนือจากห้องใต้ดิน\n",
        "* sqft_basement : พื้นที่ของห้องใต้ดิน\n",
        "* yr_built : ปีที่สร้าง\n",
        "* yr_renovated : ปีที่ปรับปรุง\n",
        "* street : ถนน\n",
        "* city : เมือง\n",
        "* statezip : รหัสไปรษณีย์\n",
        "* country : ประเทศ"
      ]
    },
    {
      "cell_type": "markdown",
      "metadata": {
        "id": "F5A9BISIWoaz"
      },
      "source": [
        "**Import Data**"
      ]
    },
    {
      "cell_type": "code",
      "metadata": {
        "id": "rO93_5MQ9VFl"
      },
      "source": [
        "data = pd.read_csv('house_pricing.csv')"
      ],
      "execution_count": 19,
      "outputs": []
    },
    {
      "cell_type": "code",
      "metadata": {
        "colab": {
          "base_uri": "https://localhost:8080/",
          "height": 790
        },
        "id": "iqTsUB9v4JAO",
        "outputId": "a407f3bc-5aff-4c25-ab69-518f97c269b5"
      },
      "source": [
        "data"
      ],
      "execution_count": 20,
      "outputs": [
        {
          "output_type": "execute_result",
          "data": {
            "text/html": [
              "<div>\n",
              "<style scoped>\n",
              "    .dataframe tbody tr th:only-of-type {\n",
              "        vertical-align: middle;\n",
              "    }\n",
              "\n",
              "    .dataframe tbody tr th {\n",
              "        vertical-align: top;\n",
              "    }\n",
              "\n",
              "    .dataframe thead th {\n",
              "        text-align: right;\n",
              "    }\n",
              "</style>\n",
              "<table border=\"1\" class=\"dataframe\">\n",
              "  <thead>\n",
              "    <tr style=\"text-align: right;\">\n",
              "      <th></th>\n",
              "      <th>date</th>\n",
              "      <th>price</th>\n",
              "      <th>bedrooms</th>\n",
              "      <th>bathrooms</th>\n",
              "      <th>sqft_living</th>\n",
              "      <th>sqft_lot</th>\n",
              "      <th>floors</th>\n",
              "      <th>waterfront</th>\n",
              "      <th>view</th>\n",
              "      <th>condition</th>\n",
              "      <th>sqft_above</th>\n",
              "      <th>sqft_basement</th>\n",
              "      <th>yr_built</th>\n",
              "      <th>yr_renovated</th>\n",
              "      <th>street</th>\n",
              "      <th>city</th>\n",
              "      <th>statezip</th>\n",
              "      <th>country</th>\n",
              "    </tr>\n",
              "  </thead>\n",
              "  <tbody>\n",
              "    <tr>\n",
              "      <th>0</th>\n",
              "      <td>2014-05-02 00:00:00</td>\n",
              "      <td>3.130000e+05</td>\n",
              "      <td>3.0</td>\n",
              "      <td>1.50</td>\n",
              "      <td>1340</td>\n",
              "      <td>7912</td>\n",
              "      <td>1.5</td>\n",
              "      <td>0</td>\n",
              "      <td>0</td>\n",
              "      <td>3</td>\n",
              "      <td>1340</td>\n",
              "      <td>0</td>\n",
              "      <td>1955</td>\n",
              "      <td>2005</td>\n",
              "      <td>18810 Densmore Ave N</td>\n",
              "      <td>Shoreline</td>\n",
              "      <td>WA 98133</td>\n",
              "      <td>USA</td>\n",
              "    </tr>\n",
              "    <tr>\n",
              "      <th>1</th>\n",
              "      <td>2014-05-02 00:00:00</td>\n",
              "      <td>2.384000e+06</td>\n",
              "      <td>5.0</td>\n",
              "      <td>2.50</td>\n",
              "      <td>3650</td>\n",
              "      <td>9050</td>\n",
              "      <td>2.0</td>\n",
              "      <td>0</td>\n",
              "      <td>4</td>\n",
              "      <td>5</td>\n",
              "      <td>3370</td>\n",
              "      <td>280</td>\n",
              "      <td>1921</td>\n",
              "      <td>0</td>\n",
              "      <td>709 W Blaine St</td>\n",
              "      <td>Seattle</td>\n",
              "      <td>WA 98119</td>\n",
              "      <td>USA</td>\n",
              "    </tr>\n",
              "    <tr>\n",
              "      <th>2</th>\n",
              "      <td>2014-05-02 00:00:00</td>\n",
              "      <td>3.420000e+05</td>\n",
              "      <td>3.0</td>\n",
              "      <td>2.00</td>\n",
              "      <td>1930</td>\n",
              "      <td>11947</td>\n",
              "      <td>1.0</td>\n",
              "      <td>0</td>\n",
              "      <td>0</td>\n",
              "      <td>4</td>\n",
              "      <td>1930</td>\n",
              "      <td>0</td>\n",
              "      <td>1966</td>\n",
              "      <td>0</td>\n",
              "      <td>26206-26214 143rd Ave SE</td>\n",
              "      <td>Kent</td>\n",
              "      <td>WA 98042</td>\n",
              "      <td>USA</td>\n",
              "    </tr>\n",
              "    <tr>\n",
              "      <th>3</th>\n",
              "      <td>2014-05-02 00:00:00</td>\n",
              "      <td>4.200000e+05</td>\n",
              "      <td>3.0</td>\n",
              "      <td>2.25</td>\n",
              "      <td>2000</td>\n",
              "      <td>8030</td>\n",
              "      <td>1.0</td>\n",
              "      <td>0</td>\n",
              "      <td>0</td>\n",
              "      <td>4</td>\n",
              "      <td>1000</td>\n",
              "      <td>1000</td>\n",
              "      <td>1963</td>\n",
              "      <td>0</td>\n",
              "      <td>857 170th Pl NE</td>\n",
              "      <td>Bellevue</td>\n",
              "      <td>WA 98008</td>\n",
              "      <td>USA</td>\n",
              "    </tr>\n",
              "    <tr>\n",
              "      <th>4</th>\n",
              "      <td>2014-05-02 00:00:00</td>\n",
              "      <td>5.500000e+05</td>\n",
              "      <td>4.0</td>\n",
              "      <td>2.50</td>\n",
              "      <td>1940</td>\n",
              "      <td>10500</td>\n",
              "      <td>1.0</td>\n",
              "      <td>0</td>\n",
              "      <td>0</td>\n",
              "      <td>4</td>\n",
              "      <td>1140</td>\n",
              "      <td>800</td>\n",
              "      <td>1976</td>\n",
              "      <td>1992</td>\n",
              "      <td>9105 170th Ave NE</td>\n",
              "      <td>Redmond</td>\n",
              "      <td>WA 98052</td>\n",
              "      <td>USA</td>\n",
              "    </tr>\n",
              "    <tr>\n",
              "      <th>...</th>\n",
              "      <td>...</td>\n",
              "      <td>...</td>\n",
              "      <td>...</td>\n",
              "      <td>...</td>\n",
              "      <td>...</td>\n",
              "      <td>...</td>\n",
              "      <td>...</td>\n",
              "      <td>...</td>\n",
              "      <td>...</td>\n",
              "      <td>...</td>\n",
              "      <td>...</td>\n",
              "      <td>...</td>\n",
              "      <td>...</td>\n",
              "      <td>...</td>\n",
              "      <td>...</td>\n",
              "      <td>...</td>\n",
              "      <td>...</td>\n",
              "      <td>...</td>\n",
              "    </tr>\n",
              "    <tr>\n",
              "      <th>4595</th>\n",
              "      <td>2014-07-09 00:00:00</td>\n",
              "      <td>3.081667e+05</td>\n",
              "      <td>3.0</td>\n",
              "      <td>1.75</td>\n",
              "      <td>1510</td>\n",
              "      <td>6360</td>\n",
              "      <td>1.0</td>\n",
              "      <td>0</td>\n",
              "      <td>0</td>\n",
              "      <td>4</td>\n",
              "      <td>1510</td>\n",
              "      <td>0</td>\n",
              "      <td>1954</td>\n",
              "      <td>1979</td>\n",
              "      <td>501 N 143rd St</td>\n",
              "      <td>Seattle</td>\n",
              "      <td>WA 98133</td>\n",
              "      <td>USA</td>\n",
              "    </tr>\n",
              "    <tr>\n",
              "      <th>4596</th>\n",
              "      <td>2014-07-09 00:00:00</td>\n",
              "      <td>5.343333e+05</td>\n",
              "      <td>3.0</td>\n",
              "      <td>2.50</td>\n",
              "      <td>1460</td>\n",
              "      <td>7573</td>\n",
              "      <td>2.0</td>\n",
              "      <td>0</td>\n",
              "      <td>0</td>\n",
              "      <td>3</td>\n",
              "      <td>1460</td>\n",
              "      <td>0</td>\n",
              "      <td>1983</td>\n",
              "      <td>2009</td>\n",
              "      <td>14855 SE 10th Pl</td>\n",
              "      <td>Bellevue</td>\n",
              "      <td>WA 98007</td>\n",
              "      <td>USA</td>\n",
              "    </tr>\n",
              "    <tr>\n",
              "      <th>4597</th>\n",
              "      <td>2014-07-09 00:00:00</td>\n",
              "      <td>4.169042e+05</td>\n",
              "      <td>3.0</td>\n",
              "      <td>2.50</td>\n",
              "      <td>3010</td>\n",
              "      <td>7014</td>\n",
              "      <td>2.0</td>\n",
              "      <td>0</td>\n",
              "      <td>0</td>\n",
              "      <td>3</td>\n",
              "      <td>3010</td>\n",
              "      <td>0</td>\n",
              "      <td>2009</td>\n",
              "      <td>0</td>\n",
              "      <td>759 Ilwaco Pl NE</td>\n",
              "      <td>Renton</td>\n",
              "      <td>WA 98059</td>\n",
              "      <td>USA</td>\n",
              "    </tr>\n",
              "    <tr>\n",
              "      <th>4598</th>\n",
              "      <td>2014-07-10 00:00:00</td>\n",
              "      <td>2.034000e+05</td>\n",
              "      <td>4.0</td>\n",
              "      <td>2.00</td>\n",
              "      <td>2090</td>\n",
              "      <td>6630</td>\n",
              "      <td>1.0</td>\n",
              "      <td>0</td>\n",
              "      <td>0</td>\n",
              "      <td>3</td>\n",
              "      <td>1070</td>\n",
              "      <td>1020</td>\n",
              "      <td>1974</td>\n",
              "      <td>0</td>\n",
              "      <td>5148 S Creston St</td>\n",
              "      <td>Seattle</td>\n",
              "      <td>WA 98178</td>\n",
              "      <td>USA</td>\n",
              "    </tr>\n",
              "    <tr>\n",
              "      <th>4599</th>\n",
              "      <td>2014-07-10 00:00:00</td>\n",
              "      <td>2.206000e+05</td>\n",
              "      <td>3.0</td>\n",
              "      <td>2.50</td>\n",
              "      <td>1490</td>\n",
              "      <td>8102</td>\n",
              "      <td>2.0</td>\n",
              "      <td>0</td>\n",
              "      <td>0</td>\n",
              "      <td>4</td>\n",
              "      <td>1490</td>\n",
              "      <td>0</td>\n",
              "      <td>1990</td>\n",
              "      <td>0</td>\n",
              "      <td>18717 SE 258th St</td>\n",
              "      <td>Covington</td>\n",
              "      <td>WA 98042</td>\n",
              "      <td>USA</td>\n",
              "    </tr>\n",
              "  </tbody>\n",
              "</table>\n",
              "<p>4600 rows × 18 columns</p>\n",
              "</div>"
            ],
            "text/plain": [
              "                     date         price  bedrooms  ...       city  statezip  country\n",
              "0     2014-05-02 00:00:00  3.130000e+05       3.0  ...  Shoreline  WA 98133      USA\n",
              "1     2014-05-02 00:00:00  2.384000e+06       5.0  ...    Seattle  WA 98119      USA\n",
              "2     2014-05-02 00:00:00  3.420000e+05       3.0  ...       Kent  WA 98042      USA\n",
              "3     2014-05-02 00:00:00  4.200000e+05       3.0  ...   Bellevue  WA 98008      USA\n",
              "4     2014-05-02 00:00:00  5.500000e+05       4.0  ...    Redmond  WA 98052      USA\n",
              "...                   ...           ...       ...  ...        ...       ...      ...\n",
              "4595  2014-07-09 00:00:00  3.081667e+05       3.0  ...    Seattle  WA 98133      USA\n",
              "4596  2014-07-09 00:00:00  5.343333e+05       3.0  ...   Bellevue  WA 98007      USA\n",
              "4597  2014-07-09 00:00:00  4.169042e+05       3.0  ...     Renton  WA 98059      USA\n",
              "4598  2014-07-10 00:00:00  2.034000e+05       4.0  ...    Seattle  WA 98178      USA\n",
              "4599  2014-07-10 00:00:00  2.206000e+05       3.0  ...  Covington  WA 98042      USA\n",
              "\n",
              "[4600 rows x 18 columns]"
            ]
          },
          "metadata": {},
          "execution_count": 20
        }
      ]
    },
    {
      "cell_type": "markdown",
      "metadata": {
        "id": "dGjEKxhUBVen"
      },
      "source": [
        "**ใช้ head() descibe() info() เพื่อดูข้อมูลเบื้องต้น**"
      ]
    },
    {
      "cell_type": "code",
      "metadata": {
        "id": "N2QIrHWf9VFm",
        "colab": {
          "base_uri": "https://localhost:8080/",
          "height": 408
        },
        "outputId": "9ba2821f-b551-405d-a754-482c83b1a409"
      },
      "source": [
        "data.head()"
      ],
      "execution_count": 21,
      "outputs": [
        {
          "output_type": "execute_result",
          "data": {
            "text/html": [
              "<div>\n",
              "<style scoped>\n",
              "    .dataframe tbody tr th:only-of-type {\n",
              "        vertical-align: middle;\n",
              "    }\n",
              "\n",
              "    .dataframe tbody tr th {\n",
              "        vertical-align: top;\n",
              "    }\n",
              "\n",
              "    .dataframe thead th {\n",
              "        text-align: right;\n",
              "    }\n",
              "</style>\n",
              "<table border=\"1\" class=\"dataframe\">\n",
              "  <thead>\n",
              "    <tr style=\"text-align: right;\">\n",
              "      <th></th>\n",
              "      <th>date</th>\n",
              "      <th>price</th>\n",
              "      <th>bedrooms</th>\n",
              "      <th>bathrooms</th>\n",
              "      <th>sqft_living</th>\n",
              "      <th>sqft_lot</th>\n",
              "      <th>floors</th>\n",
              "      <th>waterfront</th>\n",
              "      <th>view</th>\n",
              "      <th>condition</th>\n",
              "      <th>sqft_above</th>\n",
              "      <th>sqft_basement</th>\n",
              "      <th>yr_built</th>\n",
              "      <th>yr_renovated</th>\n",
              "      <th>street</th>\n",
              "      <th>city</th>\n",
              "      <th>statezip</th>\n",
              "      <th>country</th>\n",
              "    </tr>\n",
              "  </thead>\n",
              "  <tbody>\n",
              "    <tr>\n",
              "      <th>0</th>\n",
              "      <td>2014-05-02 00:00:00</td>\n",
              "      <td>313000.0</td>\n",
              "      <td>3.0</td>\n",
              "      <td>1.50</td>\n",
              "      <td>1340</td>\n",
              "      <td>7912</td>\n",
              "      <td>1.5</td>\n",
              "      <td>0</td>\n",
              "      <td>0</td>\n",
              "      <td>3</td>\n",
              "      <td>1340</td>\n",
              "      <td>0</td>\n",
              "      <td>1955</td>\n",
              "      <td>2005</td>\n",
              "      <td>18810 Densmore Ave N</td>\n",
              "      <td>Shoreline</td>\n",
              "      <td>WA 98133</td>\n",
              "      <td>USA</td>\n",
              "    </tr>\n",
              "    <tr>\n",
              "      <th>1</th>\n",
              "      <td>2014-05-02 00:00:00</td>\n",
              "      <td>2384000.0</td>\n",
              "      <td>5.0</td>\n",
              "      <td>2.50</td>\n",
              "      <td>3650</td>\n",
              "      <td>9050</td>\n",
              "      <td>2.0</td>\n",
              "      <td>0</td>\n",
              "      <td>4</td>\n",
              "      <td>5</td>\n",
              "      <td>3370</td>\n",
              "      <td>280</td>\n",
              "      <td>1921</td>\n",
              "      <td>0</td>\n",
              "      <td>709 W Blaine St</td>\n",
              "      <td>Seattle</td>\n",
              "      <td>WA 98119</td>\n",
              "      <td>USA</td>\n",
              "    </tr>\n",
              "    <tr>\n",
              "      <th>2</th>\n",
              "      <td>2014-05-02 00:00:00</td>\n",
              "      <td>342000.0</td>\n",
              "      <td>3.0</td>\n",
              "      <td>2.00</td>\n",
              "      <td>1930</td>\n",
              "      <td>11947</td>\n",
              "      <td>1.0</td>\n",
              "      <td>0</td>\n",
              "      <td>0</td>\n",
              "      <td>4</td>\n",
              "      <td>1930</td>\n",
              "      <td>0</td>\n",
              "      <td>1966</td>\n",
              "      <td>0</td>\n",
              "      <td>26206-26214 143rd Ave SE</td>\n",
              "      <td>Kent</td>\n",
              "      <td>WA 98042</td>\n",
              "      <td>USA</td>\n",
              "    </tr>\n",
              "    <tr>\n",
              "      <th>3</th>\n",
              "      <td>2014-05-02 00:00:00</td>\n",
              "      <td>420000.0</td>\n",
              "      <td>3.0</td>\n",
              "      <td>2.25</td>\n",
              "      <td>2000</td>\n",
              "      <td>8030</td>\n",
              "      <td>1.0</td>\n",
              "      <td>0</td>\n",
              "      <td>0</td>\n",
              "      <td>4</td>\n",
              "      <td>1000</td>\n",
              "      <td>1000</td>\n",
              "      <td>1963</td>\n",
              "      <td>0</td>\n",
              "      <td>857 170th Pl NE</td>\n",
              "      <td>Bellevue</td>\n",
              "      <td>WA 98008</td>\n",
              "      <td>USA</td>\n",
              "    </tr>\n",
              "    <tr>\n",
              "      <th>4</th>\n",
              "      <td>2014-05-02 00:00:00</td>\n",
              "      <td>550000.0</td>\n",
              "      <td>4.0</td>\n",
              "      <td>2.50</td>\n",
              "      <td>1940</td>\n",
              "      <td>10500</td>\n",
              "      <td>1.0</td>\n",
              "      <td>0</td>\n",
              "      <td>0</td>\n",
              "      <td>4</td>\n",
              "      <td>1140</td>\n",
              "      <td>800</td>\n",
              "      <td>1976</td>\n",
              "      <td>1992</td>\n",
              "      <td>9105 170th Ave NE</td>\n",
              "      <td>Redmond</td>\n",
              "      <td>WA 98052</td>\n",
              "      <td>USA</td>\n",
              "    </tr>\n",
              "  </tbody>\n",
              "</table>\n",
              "</div>"
            ],
            "text/plain": [
              "                  date      price  bedrooms  ...       city  statezip  country\n",
              "0  2014-05-02 00:00:00   313000.0       3.0  ...  Shoreline  WA 98133      USA\n",
              "1  2014-05-02 00:00:00  2384000.0       5.0  ...    Seattle  WA 98119      USA\n",
              "2  2014-05-02 00:00:00   342000.0       3.0  ...       Kent  WA 98042      USA\n",
              "3  2014-05-02 00:00:00   420000.0       3.0  ...   Bellevue  WA 98008      USA\n",
              "4  2014-05-02 00:00:00   550000.0       4.0  ...    Redmond  WA 98052      USA\n",
              "\n",
              "[5 rows x 18 columns]"
            ]
          },
          "metadata": {},
          "execution_count": 21
        }
      ]
    },
    {
      "cell_type": "code",
      "metadata": {
        "id": "ntjYvf7fBiqO",
        "colab": {
          "base_uri": "https://localhost:8080/",
          "height": 295
        },
        "outputId": "343dee2b-9808-4b85-9df9-96d8be581151"
      },
      "source": [
        "data.describe()"
      ],
      "execution_count": 22,
      "outputs": [
        {
          "output_type": "execute_result",
          "data": {
            "text/html": [
              "<div>\n",
              "<style scoped>\n",
              "    .dataframe tbody tr th:only-of-type {\n",
              "        vertical-align: middle;\n",
              "    }\n",
              "\n",
              "    .dataframe tbody tr th {\n",
              "        vertical-align: top;\n",
              "    }\n",
              "\n",
              "    .dataframe thead th {\n",
              "        text-align: right;\n",
              "    }\n",
              "</style>\n",
              "<table border=\"1\" class=\"dataframe\">\n",
              "  <thead>\n",
              "    <tr style=\"text-align: right;\">\n",
              "      <th></th>\n",
              "      <th>price</th>\n",
              "      <th>bedrooms</th>\n",
              "      <th>bathrooms</th>\n",
              "      <th>sqft_living</th>\n",
              "      <th>sqft_lot</th>\n",
              "      <th>floors</th>\n",
              "      <th>waterfront</th>\n",
              "      <th>view</th>\n",
              "      <th>condition</th>\n",
              "      <th>sqft_above</th>\n",
              "      <th>sqft_basement</th>\n",
              "      <th>yr_built</th>\n",
              "      <th>yr_renovated</th>\n",
              "    </tr>\n",
              "  </thead>\n",
              "  <tbody>\n",
              "    <tr>\n",
              "      <th>count</th>\n",
              "      <td>4.600000e+03</td>\n",
              "      <td>4600.000000</td>\n",
              "      <td>4600.000000</td>\n",
              "      <td>4600.000000</td>\n",
              "      <td>4.600000e+03</td>\n",
              "      <td>4600.000000</td>\n",
              "      <td>4600.000000</td>\n",
              "      <td>4600.000000</td>\n",
              "      <td>4600.000000</td>\n",
              "      <td>4600.000000</td>\n",
              "      <td>4600.000000</td>\n",
              "      <td>4600.000000</td>\n",
              "      <td>4600.000000</td>\n",
              "    </tr>\n",
              "    <tr>\n",
              "      <th>mean</th>\n",
              "      <td>5.519630e+05</td>\n",
              "      <td>3.400870</td>\n",
              "      <td>2.160815</td>\n",
              "      <td>2139.346957</td>\n",
              "      <td>1.485252e+04</td>\n",
              "      <td>1.512065</td>\n",
              "      <td>0.007174</td>\n",
              "      <td>0.240652</td>\n",
              "      <td>3.451739</td>\n",
              "      <td>1827.265435</td>\n",
              "      <td>312.081522</td>\n",
              "      <td>1970.786304</td>\n",
              "      <td>808.608261</td>\n",
              "    </tr>\n",
              "    <tr>\n",
              "      <th>std</th>\n",
              "      <td>5.638347e+05</td>\n",
              "      <td>0.908848</td>\n",
              "      <td>0.783781</td>\n",
              "      <td>963.206916</td>\n",
              "      <td>3.588444e+04</td>\n",
              "      <td>0.538288</td>\n",
              "      <td>0.084404</td>\n",
              "      <td>0.778405</td>\n",
              "      <td>0.677230</td>\n",
              "      <td>862.168977</td>\n",
              "      <td>464.137228</td>\n",
              "      <td>29.731848</td>\n",
              "      <td>979.414536</td>\n",
              "    </tr>\n",
              "    <tr>\n",
              "      <th>min</th>\n",
              "      <td>0.000000e+00</td>\n",
              "      <td>0.000000</td>\n",
              "      <td>0.000000</td>\n",
              "      <td>370.000000</td>\n",
              "      <td>6.380000e+02</td>\n",
              "      <td>1.000000</td>\n",
              "      <td>0.000000</td>\n",
              "      <td>0.000000</td>\n",
              "      <td>1.000000</td>\n",
              "      <td>370.000000</td>\n",
              "      <td>0.000000</td>\n",
              "      <td>1900.000000</td>\n",
              "      <td>0.000000</td>\n",
              "    </tr>\n",
              "    <tr>\n",
              "      <th>25%</th>\n",
              "      <td>3.228750e+05</td>\n",
              "      <td>3.000000</td>\n",
              "      <td>1.750000</td>\n",
              "      <td>1460.000000</td>\n",
              "      <td>5.000750e+03</td>\n",
              "      <td>1.000000</td>\n",
              "      <td>0.000000</td>\n",
              "      <td>0.000000</td>\n",
              "      <td>3.000000</td>\n",
              "      <td>1190.000000</td>\n",
              "      <td>0.000000</td>\n",
              "      <td>1951.000000</td>\n",
              "      <td>0.000000</td>\n",
              "    </tr>\n",
              "    <tr>\n",
              "      <th>50%</th>\n",
              "      <td>4.609435e+05</td>\n",
              "      <td>3.000000</td>\n",
              "      <td>2.250000</td>\n",
              "      <td>1980.000000</td>\n",
              "      <td>7.683000e+03</td>\n",
              "      <td>1.500000</td>\n",
              "      <td>0.000000</td>\n",
              "      <td>0.000000</td>\n",
              "      <td>3.000000</td>\n",
              "      <td>1590.000000</td>\n",
              "      <td>0.000000</td>\n",
              "      <td>1976.000000</td>\n",
              "      <td>0.000000</td>\n",
              "    </tr>\n",
              "    <tr>\n",
              "      <th>75%</th>\n",
              "      <td>6.549625e+05</td>\n",
              "      <td>4.000000</td>\n",
              "      <td>2.500000</td>\n",
              "      <td>2620.000000</td>\n",
              "      <td>1.100125e+04</td>\n",
              "      <td>2.000000</td>\n",
              "      <td>0.000000</td>\n",
              "      <td>0.000000</td>\n",
              "      <td>4.000000</td>\n",
              "      <td>2300.000000</td>\n",
              "      <td>610.000000</td>\n",
              "      <td>1997.000000</td>\n",
              "      <td>1999.000000</td>\n",
              "    </tr>\n",
              "    <tr>\n",
              "      <th>max</th>\n",
              "      <td>2.659000e+07</td>\n",
              "      <td>9.000000</td>\n",
              "      <td>8.000000</td>\n",
              "      <td>13540.000000</td>\n",
              "      <td>1.074218e+06</td>\n",
              "      <td>3.500000</td>\n",
              "      <td>1.000000</td>\n",
              "      <td>4.000000</td>\n",
              "      <td>5.000000</td>\n",
              "      <td>9410.000000</td>\n",
              "      <td>4820.000000</td>\n",
              "      <td>2014.000000</td>\n",
              "      <td>2014.000000</td>\n",
              "    </tr>\n",
              "  </tbody>\n",
              "</table>\n",
              "</div>"
            ],
            "text/plain": [
              "              price     bedrooms  ...     yr_built  yr_renovated\n",
              "count  4.600000e+03  4600.000000  ...  4600.000000   4600.000000\n",
              "mean   5.519630e+05     3.400870  ...  1970.786304    808.608261\n",
              "std    5.638347e+05     0.908848  ...    29.731848    979.414536\n",
              "min    0.000000e+00     0.000000  ...  1900.000000      0.000000\n",
              "25%    3.228750e+05     3.000000  ...  1951.000000      0.000000\n",
              "50%    4.609435e+05     3.000000  ...  1976.000000      0.000000\n",
              "75%    6.549625e+05     4.000000  ...  1997.000000   1999.000000\n",
              "max    2.659000e+07     9.000000  ...  2014.000000   2014.000000\n",
              "\n",
              "[8 rows x 13 columns]"
            ]
          },
          "metadata": {},
          "execution_count": 22
        }
      ]
    },
    {
      "cell_type": "code",
      "metadata": {
        "id": "C-9p7zuH9VFr",
        "colab": {
          "base_uri": "https://localhost:8080/"
        },
        "outputId": "a7412cfc-2ac7-4b10-95b6-4814103ac2e4"
      },
      "source": [
        "data.info()"
      ],
      "execution_count": 23,
      "outputs": [
        {
          "output_type": "stream",
          "name": "stdout",
          "text": [
            "<class 'pandas.core.frame.DataFrame'>\n",
            "RangeIndex: 4600 entries, 0 to 4599\n",
            "Data columns (total 18 columns):\n",
            " #   Column         Non-Null Count  Dtype  \n",
            "---  ------         --------------  -----  \n",
            " 0   date           4600 non-null   object \n",
            " 1   price          4600 non-null   float64\n",
            " 2   bedrooms       4600 non-null   float64\n",
            " 3   bathrooms      4600 non-null   float64\n",
            " 4   sqft_living    4600 non-null   int64  \n",
            " 5   sqft_lot       4600 non-null   int64  \n",
            " 6   floors         4600 non-null   float64\n",
            " 7   waterfront     4600 non-null   int64  \n",
            " 8   view           4600 non-null   int64  \n",
            " 9   condition      4600 non-null   int64  \n",
            " 10  sqft_above     4600 non-null   int64  \n",
            " 11  sqft_basement  4600 non-null   int64  \n",
            " 12  yr_built       4600 non-null   int64  \n",
            " 13  yr_renovated   4600 non-null   int64  \n",
            " 14  street         4600 non-null   object \n",
            " 15  city           4600 non-null   object \n",
            " 16  statezip       4600 non-null   object \n",
            " 17  country        4600 non-null   object \n",
            "dtypes: float64(4), int64(9), object(5)\n",
            "memory usage: 647.0+ KB\n"
          ]
        }
      ]
    },
    {
      "cell_type": "markdown",
      "metadata": {
        "id": "FubkIMk0B0GU"
      },
      "source": [
        "**ตรวจสอบ ค่าว่าง ว่ามีอยู่ในข้อมูลหรือไม่**"
      ]
    },
    {
      "cell_type": "code",
      "metadata": {
        "id": "w4bp17po9VFo",
        "colab": {
          "base_uri": "https://localhost:8080/"
        },
        "outputId": "af79b52c-dddb-4629-83c3-2f86e73269a9"
      },
      "source": [
        "data.isnull().sum()"
      ],
      "execution_count": 24,
      "outputs": [
        {
          "output_type": "execute_result",
          "data": {
            "text/plain": [
              "date             0\n",
              "price            0\n",
              "bedrooms         0\n",
              "bathrooms        0\n",
              "sqft_living      0\n",
              "sqft_lot         0\n",
              "floors           0\n",
              "waterfront       0\n",
              "view             0\n",
              "condition        0\n",
              "sqft_above       0\n",
              "sqft_basement    0\n",
              "yr_built         0\n",
              "yr_renovated     0\n",
              "street           0\n",
              "city             0\n",
              "statezip         0\n",
              "country          0\n",
              "dtype: int64"
            ]
          },
          "metadata": {},
          "execution_count": 24
        }
      ]
    },
    {
      "cell_type": "markdown",
      "metadata": {
        "id": "3jMeB1nCCViu"
      },
      "source": [
        "**ใช้ .shape เพื่อดูขนาดของข้อมูล**"
      ]
    },
    {
      "cell_type": "code",
      "metadata": {
        "id": "8z_0q3pI9VFp",
        "colab": {
          "base_uri": "https://localhost:8080/"
        },
        "outputId": "d4fd8a38-b192-45ac-81c3-e00bc401a6a2"
      },
      "source": [
        "data.shape"
      ],
      "execution_count": 25,
      "outputs": [
        {
          "output_type": "execute_result",
          "data": {
            "text/plain": [
              "(4600, 18)"
            ]
          },
          "metadata": {},
          "execution_count": 25
        }
      ]
    },
    {
      "cell_type": "markdown",
      "metadata": {
        "id": "Q49rfuyMCvAj"
      },
      "source": [
        "**ตรวจสอบ แถวที่มีค่า = 0 ว่ามีอยู่ในฟีเจอร์ไหนบ้าง**"
      ]
    },
    {
      "cell_type": "code",
      "metadata": {
        "id": "yJg8KLgc9VFp",
        "colab": {
          "base_uri": "https://localhost:8080/"
        },
        "outputId": "909ece64-a069-4944-8d5b-a57de049e404"
      },
      "source": [
        "data[data == 0].count()"
      ],
      "execution_count": 26,
      "outputs": [
        {
          "output_type": "execute_result",
          "data": {
            "text/plain": [
              "date                0\n",
              "price              49\n",
              "bedrooms            2\n",
              "bathrooms           2\n",
              "sqft_living         0\n",
              "sqft_lot            0\n",
              "floors              0\n",
              "waterfront       4567\n",
              "view             4140\n",
              "condition           0\n",
              "sqft_above          0\n",
              "sqft_basement    2745\n",
              "yr_built            0\n",
              "yr_renovated     2735\n",
              "street              0\n",
              "city                0\n",
              "statezip            0\n",
              "country             0\n",
              "dtype: int64"
            ]
          },
          "metadata": {},
          "execution_count": 26
        }
      ]
    },
    {
      "cell_type": "markdown",
      "metadata": {
        "id": "QGS1ZsTbDBs4"
      },
      "source": [
        "**จากการตรวจสอบ แถวที่มีค่า = 0 ถามว่ามีบ้านกี่หลังในตัวอย่างที่ไม่มีราคา**"
      ]
    },
    {
      "cell_type": "code",
      "metadata": {
        "id": "BsNjyhU4DVTn",
        "colab": {
          "base_uri": "https://localhost:8080/"
        },
        "outputId": "db8cffa4-318d-4043-a4ec-83c8bf21c836"
      },
      "source": [
        "len(data[data['price']==0])"
      ],
      "execution_count": 27,
      "outputs": [
        {
          "output_type": "execute_result",
          "data": {
            "text/plain": [
              "49"
            ]
          },
          "metadata": {},
          "execution_count": 27
        }
      ]
    },
    {
      "cell_type": "markdown",
      "metadata": {
        "id": "TYWI2i1uGs6J"
      },
      "source": [
        "**DROP row ที่ราคา (price) = 0**"
      ]
    },
    {
      "cell_type": "code",
      "metadata": {
        "id": "It2YXygh9VFq"
      },
      "source": [
        "data.drop(data[data['price']==0].index, inplace=True)"
      ],
      "execution_count": 28,
      "outputs": []
    },
    {
      "cell_type": "code",
      "metadata": {
        "colab": {
          "base_uri": "https://localhost:8080/"
        },
        "id": "7CjX-6QZFDJ6",
        "outputId": "66559d3d-ec9c-4d47-b42a-56a9c6db8f8d"
      },
      "source": [
        "len(data[data['price']==0])"
      ],
      "execution_count": 29,
      "outputs": [
        {
          "output_type": "execute_result",
          "data": {
            "text/plain": [
              "0"
            ]
          },
          "metadata": {},
          "execution_count": 29
        }
      ]
    },
    {
      "cell_type": "markdown",
      "metadata": {
        "id": "IZYCl21fEPlP"
      },
      "source": [
        "**DROP ฟีเจอร์ที่ไม่ได้ใช้ (date, street, city, statezip, country) เนื่องจากมี data type เป็น Datetime / String**"
      ]
    },
    {
      "cell_type": "code",
      "metadata": {
        "id": "1X67lR3M9VFp"
      },
      "source": [
        "data.drop(['date', 'street', 'city', 'statezip', 'country'], axis=1, inplace=True)"
      ],
      "execution_count": 30,
      "outputs": []
    },
    {
      "cell_type": "code",
      "metadata": {
        "colab": {
          "base_uri": "https://localhost:8080/"
        },
        "id": "QR2nROFg9VFq",
        "outputId": "54dd44ca-875c-4ec3-e875-18b3a4ba8b6c"
      },
      "source": [
        "#ตรวจสอบขนาดของข้อมูลหลังจาก drop row และ column\n",
        "data.shape"
      ],
      "execution_count": 31,
      "outputs": [
        {
          "output_type": "execute_result",
          "data": {
            "text/plain": [
              "(4551, 13)"
            ]
          },
          "metadata": {},
          "execution_count": 31
        }
      ]
    },
    {
      "cell_type": "markdown",
      "metadata": {
        "id": "I8OVGgfhHzDM"
      },
      "source": [
        "## **Removing Outliers**\n",
        "\n",
        "An outlier is a case that differs substantially from the main trend of the data.\n",
        "\n",
        "<img src=\"https://drive.google.com/uc?id=1KzGPYgbqEgwhO0M6SC4qbq5DaPzHXogG\" width=\"400px\">"
      ]
    },
    {
      "cell_type": "markdown",
      "metadata": {
        "id": "4DjXFWa6RQoO"
      },
      "source": [
        "### price - removing outliers\n",
        "\n",
        "เมื่อทำการวาด boxplot ของข้อมูล price จะพบว่ามีข้อมูลที่เป็น Outlier จำนวนมาก \n",
        "\n",
        "(มีค่ามากกว่า Quartile ที่ 3 เกินกว่า 1.5 เท่าของ Inter-quartile range)\n",
        "\n",
        "*Note: Inter-quartile range = Quartile ที่ 3 - Quartile ที่ 1*"
      ]
    },
    {
      "cell_type": "code",
      "metadata": {
        "colab": {
          "base_uri": "https://localhost:8080/",
          "height": 296
        },
        "id": "AiE7hw1YyKgz",
        "outputId": "e71c0fdf-6a91-443e-b744-a515ee0a23d7"
      },
      "source": [
        "sns.boxplot(x=data['price'])"
      ],
      "execution_count": 32,
      "outputs": [
        {
          "output_type": "execute_result",
          "data": {
            "text/plain": [
              "<matplotlib.axes._subplots.AxesSubplot at 0x7fe8aa19c590>"
            ]
          },
          "metadata": {},
          "execution_count": 32
        },
        {
          "output_type": "display_data",
          "data": {
            "image/png": "[encoded data removed]",
            "text/plain": [
              "<Figure size 432x288 with 1 Axes>"
            ]
          },
          "metadata": {
            "needs_background": "light"
          }
        }
      ]
    },
    {
      "cell_type": "code",
      "metadata": {
        "id": "LoV1Py1d9VFr"
      },
      "source": [
        "Q1_price = data.price.quantile(0.25)\n",
        "Q3_price = data.price.quantile(0.75)\n",
        "IQR_price =Q3_price- Q1_price"
      ],
      "execution_count": 33,
      "outputs": []
    },
    {
      "cell_type": "code",
      "metadata": {
        "id": "EWoQebMH9VFr"
      },
      "source": [
        "lower_limit_price= Q1_price - 1.5*IQR_price\n",
        "upper_limit_price= Q3_price + 1.5*IQR_price"
      ],
      "execution_count": 34,
      "outputs": []
    },
    {
      "cell_type": "markdown",
      "metadata": {
        "id": "ohotLMO3NefI"
      },
      "source": [
        "**DROP แถวข้อมูลที่มีราคา (price) เกินกว่า upper_limit_price และ น้อยกว่า lower_limit_price**"
      ]
    },
    {
      "cell_type": "code",
      "metadata": {
        "id": "Pi49v3oI9VFs"
      },
      "source": [
        "data_clean = data[(data.price>lower_limit_price)&(data.price<upper_limit_price)]"
      ],
      "execution_count": 35,
      "outputs": []
    },
    {
      "cell_type": "code",
      "metadata": {
        "colab": {
          "base_uri": "https://localhost:8080/",
          "height": 296
        },
        "id": "JV41CXgHFz03",
        "outputId": "8b1e98e8-256b-42fb-d3c5-7a7f8b07eaba"
      },
      "source": [
        "sns.boxplot(x=data_clean['price'])"
      ],
      "execution_count": 36,
      "outputs": [
        {
          "output_type": "execute_result",
          "data": {
            "text/plain": [
              "<matplotlib.axes._subplots.AxesSubplot at 0x7fe8aa1004d0>"
            ]
          },
          "metadata": {},
          "execution_count": 36
        },
        {
          "output_type": "display_data",
          "data": {
            "image/png": "[encoded data removed]",
            "text/plain": [
              "<Figure size 432x288 with 1 Axes>"
            ]
          },
          "metadata": {
            "needs_background": "light"
          }
        }
      ]
    },
    {
      "cell_type": "code",
      "metadata": {
        "colab": {
          "base_uri": "https://localhost:8080/",
          "height": 359
        },
        "id": "pCD-9xc_F7CW",
        "outputId": "2529d8df-9ddb-4c10-f9c5-cce8682a4496"
      },
      "source": [
        "sns.distplot(x=data_clean['price'])"
      ],
      "execution_count": 37,
      "outputs": [
        {
          "output_type": "stream",
          "name": "stderr",
          "text": [
            "/usr/local/lib/python3.7/dist-packages/seaborn/distributions.py:2619: FutureWarning: `distplot` is a deprecated function and will be removed in a future version. Please adapt your code to use either `displot` (a figure-level function with similar flexibility) or `histplot` (an axes-level function for histograms).\n",
            "  warnings.warn(msg, FutureWarning)\n"
          ]
        },
        {
          "output_type": "execute_result",
          "data": {
            "text/plain": [
              "<matplotlib.axes._subplots.AxesSubplot at 0x7fe8aa025f90>"
            ]
          },
          "metadata": {},
          "execution_count": 37
        },
        {
          "output_type": "display_data",
          "data": {
            "image/png": "[encoded data removed]",
            "text/plain": [
              "<Figure size 432x288 with 1 Axes>"
            ]
          },
          "metadata": {
            "needs_background": "light"
          }
        }
      ]
    },
    {
      "cell_type": "markdown",
      "metadata": {
        "id": "MOwoTC_GRV16"
      },
      "source": [
        "### sqft_living - removing outliers"
      ]
    },
    {
      "cell_type": "code",
      "metadata": {
        "colab": {
          "base_uri": "https://localhost:8080/",
          "height": 297
        },
        "id": "pEtLcBB3ySv2",
        "outputId": "d5677a2b-724f-47c8-ceca-035b6ef669ad"
      },
      "source": [
        "sns.boxplot(x=data['sqft_living'])"
      ],
      "execution_count": 38,
      "outputs": [
        {
          "output_type": "execute_result",
          "data": {
            "text/plain": [
              "<matplotlib.axes._subplots.AxesSubplot at 0x7fe8a7f18c10>"
            ]
          },
          "metadata": {},
          "execution_count": 38
        },
        {
          "output_type": "display_data",
          "data": {
            "image/png": "[encoded data removed]",
            "text/plain": [
              "<Figure size 432x288 with 1 Axes>"
            ]
          },
          "metadata": {
            "needs_background": "light"
          }
        }
      ]
    },
    {
      "cell_type": "code",
      "metadata": {
        "id": "FkrYqlCx9VFs"
      },
      "source": [
        "Q1_sqft_living = data.sqft_living.quantile(0.25)\n",
        "Q3_sqft_living = data.sqft_living.quantile(0.75)\n",
        "IQR_sqft_living =Q3_sqft_living- Q1_sqft_living\n",
        "lower_limit_sqft_living= Q1_sqft_living - 1.5*IQR_sqft_living\n",
        "upper_limit_sqft_living= Q3_sqft_living + 1.5*IQR_sqft_living"
      ],
      "execution_count": 39,
      "outputs": []
    },
    {
      "cell_type": "markdown",
      "metadata": {
        "id": "RM67W9XdRP5t"
      },
      "source": [
        "**แสดงแถวข้อมูลที่ sqft_living อาจจะเป็น outlier**"
      ]
    },
    {
      "cell_type": "code",
      "metadata": {
        "id": "9YP-1VbuRuLA",
        "colab": {
          "base_uri": "https://localhost:8080/",
          "height": 417
        },
        "outputId": "797564e2-ee30-45c8-a824-4f578710a072"
      },
      "source": [
        "data[(data['sqft_living']>upper_limit_sqft_living) | (data['sqft_living'] < lower_limit_sqft_living)]"
      ],
      "execution_count": 40,
      "outputs": [
        {
          "output_type": "execute_result",
          "data": {
            "text/html": [
              "<div>\n",
              "<style scoped>\n",
              "    .dataframe tbody tr th:only-of-type {\n",
              "        vertical-align: middle;\n",
              "    }\n",
              "\n",
              "    .dataframe tbody tr th {\n",
              "        vertical-align: top;\n",
              "    }\n",
              "\n",
              "    .dataframe thead th {\n",
              "        text-align: right;\n",
              "    }\n",
              "</style>\n",
              "<table border=\"1\" class=\"dataframe\">\n",
              "  <thead>\n",
              "    <tr style=\"text-align: right;\">\n",
              "      <th></th>\n",
              "      <th>price</th>\n",
              "      <th>bedrooms</th>\n",
              "      <th>bathrooms</th>\n",
              "      <th>sqft_living</th>\n",
              "      <th>sqft_lot</th>\n",
              "      <th>floors</th>\n",
              "      <th>waterfront</th>\n",
              "      <th>view</th>\n",
              "      <th>condition</th>\n",
              "      <th>sqft_above</th>\n",
              "      <th>sqft_basement</th>\n",
              "      <th>yr_built</th>\n",
              "      <th>yr_renovated</th>\n",
              "    </tr>\n",
              "  </thead>\n",
              "  <tbody>\n",
              "    <tr>\n",
              "      <th>107</th>\n",
              "      <td>1090000.0</td>\n",
              "      <td>4.0</td>\n",
              "      <td>2.50</td>\n",
              "      <td>4340</td>\n",
              "      <td>141570</td>\n",
              "      <td>2.5</td>\n",
              "      <td>0</td>\n",
              "      <td>0</td>\n",
              "      <td>3</td>\n",
              "      <td>4340</td>\n",
              "      <td>0</td>\n",
              "      <td>1992</td>\n",
              "      <td>0</td>\n",
              "    </tr>\n",
              "    <tr>\n",
              "      <th>122</th>\n",
              "      <td>2280000.0</td>\n",
              "      <td>7.0</td>\n",
              "      <td>8.00</td>\n",
              "      <td>13540</td>\n",
              "      <td>307752</td>\n",
              "      <td>3.0</td>\n",
              "      <td>0</td>\n",
              "      <td>4</td>\n",
              "      <td>3</td>\n",
              "      <td>9410</td>\n",
              "      <td>4130</td>\n",
              "      <td>1999</td>\n",
              "      <td>0</td>\n",
              "    </tr>\n",
              "    <tr>\n",
              "      <th>143</th>\n",
              "      <td>890000.0</td>\n",
              "      <td>4.0</td>\n",
              "      <td>4.25</td>\n",
              "      <td>4420</td>\n",
              "      <td>5750</td>\n",
              "      <td>2.0</td>\n",
              "      <td>0</td>\n",
              "      <td>0</td>\n",
              "      <td>3</td>\n",
              "      <td>3410</td>\n",
              "      <td>1010</td>\n",
              "      <td>2006</td>\n",
              "      <td>0</td>\n",
              "    </tr>\n",
              "    <tr>\n",
              "      <th>148</th>\n",
              "      <td>890000.0</td>\n",
              "      <td>5.0</td>\n",
              "      <td>3.50</td>\n",
              "      <td>4490</td>\n",
              "      <td>6000</td>\n",
              "      <td>2.0</td>\n",
              "      <td>0</td>\n",
              "      <td>0</td>\n",
              "      <td>3</td>\n",
              "      <td>3200</td>\n",
              "      <td>1290</td>\n",
              "      <td>2006</td>\n",
              "      <td>0</td>\n",
              "    </tr>\n",
              "    <tr>\n",
              "      <th>217</th>\n",
              "      <td>1870000.0</td>\n",
              "      <td>5.0</td>\n",
              "      <td>4.00</td>\n",
              "      <td>4510</td>\n",
              "      <td>15175</td>\n",
              "      <td>2.0</td>\n",
              "      <td>0</td>\n",
              "      <td>0</td>\n",
              "      <td>3</td>\n",
              "      <td>4510</td>\n",
              "      <td>0</td>\n",
              "      <td>1969</td>\n",
              "      <td>2002</td>\n",
              "    </tr>\n",
              "    <tr>\n",
              "      <th>...</th>\n",
              "      <td>...</td>\n",
              "      <td>...</td>\n",
              "      <td>...</td>\n",
              "      <td>...</td>\n",
              "      <td>...</td>\n",
              "      <td>...</td>\n",
              "      <td>...</td>\n",
              "      <td>...</td>\n",
              "      <td>...</td>\n",
              "      <td>...</td>\n",
              "      <td>...</td>\n",
              "      <td>...</td>\n",
              "      <td>...</td>\n",
              "    </tr>\n",
              "    <tr>\n",
              "      <th>4277</th>\n",
              "      <td>1240000.0</td>\n",
              "      <td>5.0</td>\n",
              "      <td>3.50</td>\n",
              "      <td>5430</td>\n",
              "      <td>10327</td>\n",
              "      <td>2.0</td>\n",
              "      <td>0</td>\n",
              "      <td>2</td>\n",
              "      <td>3</td>\n",
              "      <td>4010</td>\n",
              "      <td>1420</td>\n",
              "      <td>2007</td>\n",
              "      <td>0</td>\n",
              "    </tr>\n",
              "    <tr>\n",
              "      <th>4283</th>\n",
              "      <td>1550000.0</td>\n",
              "      <td>5.0</td>\n",
              "      <td>4.25</td>\n",
              "      <td>6070</td>\n",
              "      <td>171626</td>\n",
              "      <td>2.0</td>\n",
              "      <td>0</td>\n",
              "      <td>0</td>\n",
              "      <td>3</td>\n",
              "      <td>6070</td>\n",
              "      <td>0</td>\n",
              "      <td>1999</td>\n",
              "      <td>0</td>\n",
              "    </tr>\n",
              "    <tr>\n",
              "      <th>4398</th>\n",
              "      <td>195000.0</td>\n",
              "      <td>5.0</td>\n",
              "      <td>3.75</td>\n",
              "      <td>5340</td>\n",
              "      <td>10655</td>\n",
              "      <td>2.5</td>\n",
              "      <td>0</td>\n",
              "      <td>3</td>\n",
              "      <td>4</td>\n",
              "      <td>3740</td>\n",
              "      <td>1600</td>\n",
              "      <td>1912</td>\n",
              "      <td>1989</td>\n",
              "    </tr>\n",
              "    <tr>\n",
              "      <th>4400</th>\n",
              "      <td>692000.0</td>\n",
              "      <td>4.0</td>\n",
              "      <td>3.25</td>\n",
              "      <td>5010</td>\n",
              "      <td>34460</td>\n",
              "      <td>2.0</td>\n",
              "      <td>0</td>\n",
              "      <td>0</td>\n",
              "      <td>3</td>\n",
              "      <td>5010</td>\n",
              "      <td>0</td>\n",
              "      <td>1988</td>\n",
              "      <td>2000</td>\n",
              "    </tr>\n",
              "    <tr>\n",
              "      <th>4432</th>\n",
              "      <td>452500.0</td>\n",
              "      <td>5.0</td>\n",
              "      <td>3.50</td>\n",
              "      <td>5960</td>\n",
              "      <td>13703</td>\n",
              "      <td>2.0</td>\n",
              "      <td>0</td>\n",
              "      <td>2</td>\n",
              "      <td>3</td>\n",
              "      <td>4770</td>\n",
              "      <td>1190</td>\n",
              "      <td>1984</td>\n",
              "      <td>0</td>\n",
              "    </tr>\n",
              "  </tbody>\n",
              "</table>\n",
              "<p>128 rows × 13 columns</p>\n",
              "</div>"
            ],
            "text/plain": [
              "          price  bedrooms  bathrooms  ...  sqft_basement  yr_built  yr_renovated\n",
              "107   1090000.0       4.0       2.50  ...              0      1992             0\n",
              "122   2280000.0       7.0       8.00  ...           4130      1999             0\n",
              "143    890000.0       4.0       4.25  ...           1010      2006             0\n",
              "148    890000.0       5.0       3.50  ...           1290      2006             0\n",
              "217   1870000.0       5.0       4.00  ...              0      1969          2002\n",
              "...         ...       ...        ...  ...            ...       ...           ...\n",
              "4277  1240000.0       5.0       3.50  ...           1420      2007             0\n",
              "4283  1550000.0       5.0       4.25  ...              0      1999             0\n",
              "4398   195000.0       5.0       3.75  ...           1600      1912          1989\n",
              "4400   692000.0       4.0       3.25  ...              0      1988          2000\n",
              "4432   452500.0       5.0       3.50  ...           1190      1984             0\n",
              "\n",
              "[128 rows x 13 columns]"
            ]
          },
          "metadata": {},
          "execution_count": 40
        }
      ]
    },
    {
      "cell_type": "markdown",
      "metadata": {
        "id": "GGkCKd6HRZmf"
      },
      "source": [
        "**DROP แถวข้อมูลที่ sqft_living อาจจะเป็น outlier**"
      ]
    },
    {
      "cell_type": "code",
      "metadata": {
        "id": "sHgmCnCJR4lw"
      },
      "source": [
        "data_clean = data_clean[(data_clean['sqft_living'] > lower_limit_sqft_living) & (data_clean['sqft_living'] < upper_limit_sqft_living)]"
      ],
      "execution_count": 41,
      "outputs": []
    },
    {
      "cell_type": "code",
      "metadata": {
        "colab": {
          "base_uri": "https://localhost:8080/",
          "height": 417
        },
        "id": "H0P2g9R4G3Nr",
        "outputId": "3b1c80b7-eaaa-4e94-8f8d-b1116b575723"
      },
      "source": [
        "data_clean"
      ],
      "execution_count": 42,
      "outputs": [
        {
          "output_type": "execute_result",
          "data": {
            "text/html": [
              "<div>\n",
              "<style scoped>\n",
              "    .dataframe tbody tr th:only-of-type {\n",
              "        vertical-align: middle;\n",
              "    }\n",
              "\n",
              "    .dataframe tbody tr th {\n",
              "        vertical-align: top;\n",
              "    }\n",
              "\n",
              "    .dataframe thead th {\n",
              "        text-align: right;\n",
              "    }\n",
              "</style>\n",
              "<table border=\"1\" class=\"dataframe\">\n",
              "  <thead>\n",
              "    <tr style=\"text-align: right;\">\n",
              "      <th></th>\n",
              "      <th>price</th>\n",
              "      <th>bedrooms</th>\n",
              "      <th>bathrooms</th>\n",
              "      <th>sqft_living</th>\n",
              "      <th>sqft_lot</th>\n",
              "      <th>floors</th>\n",
              "      <th>waterfront</th>\n",
              "      <th>view</th>\n",
              "      <th>condition</th>\n",
              "      <th>sqft_above</th>\n",
              "      <th>sqft_basement</th>\n",
              "      <th>yr_built</th>\n",
              "      <th>yr_renovated</th>\n",
              "    </tr>\n",
              "  </thead>\n",
              "  <tbody>\n",
              "    <tr>\n",
              "      <th>0</th>\n",
              "      <td>313000.000000</td>\n",
              "      <td>3.0</td>\n",
              "      <td>1.50</td>\n",
              "      <td>1340</td>\n",
              "      <td>7912</td>\n",
              "      <td>1.5</td>\n",
              "      <td>0</td>\n",
              "      <td>0</td>\n",
              "      <td>3</td>\n",
              "      <td>1340</td>\n",
              "      <td>0</td>\n",
              "      <td>1955</td>\n",
              "      <td>2005</td>\n",
              "    </tr>\n",
              "    <tr>\n",
              "      <th>2</th>\n",
              "      <td>342000.000000</td>\n",
              "      <td>3.0</td>\n",
              "      <td>2.00</td>\n",
              "      <td>1930</td>\n",
              "      <td>11947</td>\n",
              "      <td>1.0</td>\n",
              "      <td>0</td>\n",
              "      <td>0</td>\n",
              "      <td>4</td>\n",
              "      <td>1930</td>\n",
              "      <td>0</td>\n",
              "      <td>1966</td>\n",
              "      <td>0</td>\n",
              "    </tr>\n",
              "    <tr>\n",
              "      <th>3</th>\n",
              "      <td>420000.000000</td>\n",
              "      <td>3.0</td>\n",
              "      <td>2.25</td>\n",
              "      <td>2000</td>\n",
              "      <td>8030</td>\n",
              "      <td>1.0</td>\n",
              "      <td>0</td>\n",
              "      <td>0</td>\n",
              "      <td>4</td>\n",
              "      <td>1000</td>\n",
              "      <td>1000</td>\n",
              "      <td>1963</td>\n",
              "      <td>0</td>\n",
              "    </tr>\n",
              "    <tr>\n",
              "      <th>4</th>\n",
              "      <td>550000.000000</td>\n",
              "      <td>4.0</td>\n",
              "      <td>2.50</td>\n",
              "      <td>1940</td>\n",
              "      <td>10500</td>\n",
              "      <td>1.0</td>\n",
              "      <td>0</td>\n",
              "      <td>0</td>\n",
              "      <td>4</td>\n",
              "      <td>1140</td>\n",
              "      <td>800</td>\n",
              "      <td>1976</td>\n",
              "      <td>1992</td>\n",
              "    </tr>\n",
              "    <tr>\n",
              "      <th>5</th>\n",
              "      <td>490000.000000</td>\n",
              "      <td>2.0</td>\n",
              "      <td>1.00</td>\n",
              "      <td>880</td>\n",
              "      <td>6380</td>\n",
              "      <td>1.0</td>\n",
              "      <td>0</td>\n",
              "      <td>0</td>\n",
              "      <td>3</td>\n",
              "      <td>880</td>\n",
              "      <td>0</td>\n",
              "      <td>1938</td>\n",
              "      <td>1994</td>\n",
              "    </tr>\n",
              "    <tr>\n",
              "      <th>...</th>\n",
              "      <td>...</td>\n",
              "      <td>...</td>\n",
              "      <td>...</td>\n",
              "      <td>...</td>\n",
              "      <td>...</td>\n",
              "      <td>...</td>\n",
              "      <td>...</td>\n",
              "      <td>...</td>\n",
              "      <td>...</td>\n",
              "      <td>...</td>\n",
              "      <td>...</td>\n",
              "      <td>...</td>\n",
              "      <td>...</td>\n",
              "    </tr>\n",
              "    <tr>\n",
              "      <th>4595</th>\n",
              "      <td>308166.666667</td>\n",
              "      <td>3.0</td>\n",
              "      <td>1.75</td>\n",
              "      <td>1510</td>\n",
              "      <td>6360</td>\n",
              "      <td>1.0</td>\n",
              "      <td>0</td>\n",
              "      <td>0</td>\n",
              "      <td>4</td>\n",
              "      <td>1510</td>\n",
              "      <td>0</td>\n",
              "      <td>1954</td>\n",
              "      <td>1979</td>\n",
              "    </tr>\n",
              "    <tr>\n",
              "      <th>4596</th>\n",
              "      <td>534333.333333</td>\n",
              "      <td>3.0</td>\n",
              "      <td>2.50</td>\n",
              "      <td>1460</td>\n",
              "      <td>7573</td>\n",
              "      <td>2.0</td>\n",
              "      <td>0</td>\n",
              "      <td>0</td>\n",
              "      <td>3</td>\n",
              "      <td>1460</td>\n",
              "      <td>0</td>\n",
              "      <td>1983</td>\n",
              "      <td>2009</td>\n",
              "    </tr>\n",
              "    <tr>\n",
              "      <th>4597</th>\n",
              "      <td>416904.166667</td>\n",
              "      <td>3.0</td>\n",
              "      <td>2.50</td>\n",
              "      <td>3010</td>\n",
              "      <td>7014</td>\n",
              "      <td>2.0</td>\n",
              "      <td>0</td>\n",
              "      <td>0</td>\n",
              "      <td>3</td>\n",
              "      <td>3010</td>\n",
              "      <td>0</td>\n",
              "      <td>2009</td>\n",
              "      <td>0</td>\n",
              "    </tr>\n",
              "    <tr>\n",
              "      <th>4598</th>\n",
              "      <td>203400.000000</td>\n",
              "      <td>4.0</td>\n",
              "      <td>2.00</td>\n",
              "      <td>2090</td>\n",
              "      <td>6630</td>\n",
              "      <td>1.0</td>\n",
              "      <td>0</td>\n",
              "      <td>0</td>\n",
              "      <td>3</td>\n",
              "      <td>1070</td>\n",
              "      <td>1020</td>\n",
              "      <td>1974</td>\n",
              "      <td>0</td>\n",
              "    </tr>\n",
              "    <tr>\n",
              "      <th>4599</th>\n",
              "      <td>220600.000000</td>\n",
              "      <td>3.0</td>\n",
              "      <td>2.50</td>\n",
              "      <td>1490</td>\n",
              "      <td>8102</td>\n",
              "      <td>2.0</td>\n",
              "      <td>0</td>\n",
              "      <td>0</td>\n",
              "      <td>4</td>\n",
              "      <td>1490</td>\n",
              "      <td>0</td>\n",
              "      <td>1990</td>\n",
              "      <td>0</td>\n",
              "    </tr>\n",
              "  </tbody>\n",
              "</table>\n",
              "<p>4260 rows × 13 columns</p>\n",
              "</div>"
            ],
            "text/plain": [
              "              price  bedrooms  bathrooms  ...  sqft_basement  yr_built  yr_renovated\n",
              "0     313000.000000       3.0       1.50  ...              0      1955          2005\n",
              "2     342000.000000       3.0       2.00  ...              0      1966             0\n",
              "3     420000.000000       3.0       2.25  ...           1000      1963             0\n",
              "4     550000.000000       4.0       2.50  ...            800      1976          1992\n",
              "5     490000.000000       2.0       1.00  ...              0      1938          1994\n",
              "...             ...       ...        ...  ...            ...       ...           ...\n",
              "4595  308166.666667       3.0       1.75  ...              0      1954          1979\n",
              "4596  534333.333333       3.0       2.50  ...              0      1983          2009\n",
              "4597  416904.166667       3.0       2.50  ...              0      2009             0\n",
              "4598  203400.000000       4.0       2.00  ...           1020      1974             0\n",
              "4599  220600.000000       3.0       2.50  ...              0      1990             0\n",
              "\n",
              "[4260 rows x 13 columns]"
            ]
          },
          "metadata": {},
          "execution_count": 42
        }
      ]
    },
    {
      "cell_type": "markdown",
      "metadata": {
        "id": "qqK7-wyqSCat"
      },
      "source": [
        "### sqft_lot - removing outliers"
      ]
    },
    {
      "cell_type": "code",
      "metadata": {
        "colab": {
          "base_uri": "https://localhost:8080/",
          "height": 297
        },
        "id": "80sAaCruybhm",
        "outputId": "93c98839-c21c-41a9-9c7e-9db247d15646"
      },
      "source": [
        "sns.boxplot(x=data['sqft_lot'])"
      ],
      "execution_count": 43,
      "outputs": [
        {
          "output_type": "execute_result",
          "data": {
            "text/plain": [
              "<matplotlib.axes._subplots.AxesSubplot at 0x7fe8a7efc710>"
            ]
          },
          "metadata": {},
          "execution_count": 43
        },
        {
          "output_type": "display_data",
          "data": {
            "image/png": "[encoded data removed]",
            "text/plain": [
              "<Figure size 432x288 with 1 Axes>"
            ]
          },
          "metadata": {
            "needs_background": "light"
          }
        }
      ]
    },
    {
      "cell_type": "markdown",
      "metadata": {
        "id": "p4EeuaCDRrFY"
      },
      "source": [
        "**คำนวณ lower และ upper limits สำหรับ sqft_lot**"
      ]
    },
    {
      "cell_type": "code",
      "metadata": {
        "id": "1jRX5PxXSBro"
      },
      "source": [
        "Q1_sqft_lot = data.sqft_lot.quantile(0.25)\n",
        "Q3_sqft_lot = data.sqft_lot.quantile(0.75)\n",
        "IQR_sqft_lot =Q3_sqft_lot- Q1_sqft_lot\n",
        "lower_limit_sqft_lot= Q1_sqft_lot - 1.5*IQR_sqft_lot\n",
        "upper_limit_sqft_lot= Q3_sqft_lot + 1.5*IQR_sqft_lot"
      ],
      "execution_count": 44,
      "outputs": []
    },
    {
      "cell_type": "markdown",
      "metadata": {
        "id": "Cxtw7eKcRmve"
      },
      "source": [
        "**DROP แถวข้อมูลที่ sqft_living อาจจะเป็น outlier**"
      ]
    },
    {
      "cell_type": "code",
      "metadata": {
        "id": "3Ho9YviqSRo2"
      },
      "source": [
        "data_clean = data_clean[(data_clean['sqft_lot'] > lower_limit_sqft_lot) & (data_clean['sqft_lot'] < upper_limit_sqft_lot)]"
      ],
      "execution_count": 45,
      "outputs": []
    },
    {
      "cell_type": "markdown",
      "metadata": {
        "id": "jZWziR2qSY4j"
      },
      "source": [
        "### sqft_above - removing outliers"
      ]
    },
    {
      "cell_type": "code",
      "metadata": {
        "id": "kjO_dKHLyel0",
        "colab": {
          "base_uri": "https://localhost:8080/",
          "height": 280
        },
        "outputId": "42714164-179e-4827-d496-ab5a832aafd2"
      },
      "source": [
        "# Draw a boxplot\n",
        "sns.boxplot(x=data['sqft_above'])\n",
        "# Calculate lower and upper limits\n",
        "Q1_sqft_above = data.sqft_above.quantile(0.25)\n",
        "Q3_sqft_above = data.sqft_above.quantile(0.75)\n",
        "IQR_sqft_above =Q3_sqft_above- Q1_sqft_above\n",
        "lower_limit_sqft_above= Q1_sqft_above - 1.5*IQR_sqft_above\n",
        "upper_limit_sqft_above= Q3_sqft_above + 1.5*IQR_sqft_above\n",
        "# Drop rows with outlier data \n",
        "data_clean = data_clean[(data_clean['sqft_above'] > lower_limit_sqft_above) & (data_clean['sqft_above'] < upper_limit_sqft_above)]"
      ],
      "execution_count": 46,
      "outputs": [
        {
          "output_type": "display_data",
          "data": {
            "image/png": "[encoded data removed]",
            "text/plain": [
              "<Figure size 432x288 with 1 Axes>"
            ]
          },
          "metadata": {
            "needs_background": "light"
          }
        }
      ]
    },
    {
      "cell_type": "markdown",
      "metadata": {
        "id": "YPnU7OMbSniC"
      },
      "source": [
        "### sqft_basement - removing outliers"
      ]
    },
    {
      "cell_type": "code",
      "metadata": {
        "id": "d1uYMK2myfE-",
        "colab": {
          "base_uri": "https://localhost:8080/",
          "height": 280
        },
        "outputId": "be1bd112-00c4-41cf-e4f3-8c59475fdde4"
      },
      "source": [
        "# Draw a boxplot\n",
        "sns.boxplot(x=data['sqft_basement'])\n",
        "# Calculate lower and upper limits\n",
        "Q1_sqft_basement = data.sqft_basement.quantile(0.25)\n",
        "Q3_sqft_basement = data.sqft_basement.quantile(0.75)\n",
        "IQR_sqft_basement =Q3_sqft_basement- Q1_sqft_basement\n",
        "lower_limit_sqft_basement= Q1_sqft_basement - 1.5*IQR_sqft_basement\n",
        "upper_limit_sqft_basement= Q3_sqft_basement + 1.5*IQR_sqft_basement\n",
        "# Drop rows with outlier data \n",
        "data_clean = data_clean[(data_clean['sqft_basement'] > lower_limit_sqft_basement) & (data_clean['sqft_basement'] < upper_limit_sqft_basement)]"
      ],
      "execution_count": 47,
      "outputs": [
        {
          "output_type": "display_data",
          "data": {
            "image/png": "[encoded data removed]",
            "text/plain": [
              "<Figure size 432x288 with 1 Axes>"
            ]
          },
          "metadata": {
            "needs_background": "light"
          }
        }
      ]
    },
    {
      "cell_type": "code",
      "metadata": {
        "colab": {
          "base_uri": "https://localhost:8080/"
        },
        "id": "bQwCjMMZSwuB",
        "outputId": "09f0cde0-1dbc-4506-e92e-570845d11ed4"
      },
      "source": [
        "data_clean.shape"
      ],
      "execution_count": 48,
      "outputs": [
        {
          "output_type": "execute_result",
          "data": {
            "text/plain": [
              "(3758, 13)"
            ]
          },
          "metadata": {},
          "execution_count": 48
        }
      ]
    },
    {
      "cell_type": "markdown",
      "metadata": {
        "id": "vdVokpXMJAV1"
      },
      "source": [
        "### **Pearson Correlation Matrix**"
      ]
    },
    {
      "cell_type": "code",
      "metadata": {
        "colab": {
          "base_uri": "https://localhost:8080/",
          "height": 450
        },
        "id": "w0676U31S4Vf",
        "outputId": "43124e94-4958-4f6d-e805-90c0589ba939"
      },
      "source": [
        "data.corr()"
      ],
      "execution_count": 49,
      "outputs": [
        {
          "output_type": "execute_result",
          "data": {
            "text/html": [
              "<div>\n",
              "<style scoped>\n",
              "    .dataframe tbody tr th:only-of-type {\n",
              "        vertical-align: middle;\n",
              "    }\n",
              "\n",
              "    .dataframe tbody tr th {\n",
              "        vertical-align: top;\n",
              "    }\n",
              "\n",
              "    .dataframe thead th {\n",
              "        text-align: right;\n",
              "    }\n",
              "</style>\n",
              "<table border=\"1\" class=\"dataframe\">\n",
              "  <thead>\n",
              "    <tr style=\"text-align: right;\">\n",
              "      <th></th>\n",
              "      <th>price</th>\n",
              "      <th>bedrooms</th>\n",
              "      <th>bathrooms</th>\n",
              "      <th>sqft_living</th>\n",
              "      <th>sqft_lot</th>\n",
              "      <th>floors</th>\n",
              "      <th>waterfront</th>\n",
              "      <th>view</th>\n",
              "      <th>condition</th>\n",
              "      <th>sqft_above</th>\n",
              "      <th>sqft_basement</th>\n",
              "      <th>yr_built</th>\n",
              "      <th>yr_renovated</th>\n",
              "    </tr>\n",
              "  </thead>\n",
              "  <tbody>\n",
              "    <tr>\n",
              "      <th>price</th>\n",
              "      <td>1.000000</td>\n",
              "      <td>0.210228</td>\n",
              "      <td>0.341126</td>\n",
              "      <td>0.445494</td>\n",
              "      <td>0.051347</td>\n",
              "      <td>0.152758</td>\n",
              "      <td>0.150083</td>\n",
              "      <td>0.242587</td>\n",
              "      <td>0.038892</td>\n",
              "      <td>0.380661</td>\n",
              "      <td>0.217782</td>\n",
              "      <td>0.021757</td>\n",
              "      <td>-0.029034</td>\n",
              "    </tr>\n",
              "    <tr>\n",
              "      <th>bedrooms</th>\n",
              "      <td>0.210228</td>\n",
              "      <td>1.000000</td>\n",
              "      <td>0.547612</td>\n",
              "      <td>0.596053</td>\n",
              "      <td>0.071138</td>\n",
              "      <td>0.176219</td>\n",
              "      <td>-0.005521</td>\n",
              "      <td>0.115080</td>\n",
              "      <td>0.023018</td>\n",
              "      <td>0.485672</td>\n",
              "      <td>0.335103</td>\n",
              "      <td>0.141498</td>\n",
              "      <td>-0.062219</td>\n",
              "    </tr>\n",
              "    <tr>\n",
              "      <th>bathrooms</th>\n",
              "      <td>0.341126</td>\n",
              "      <td>0.547612</td>\n",
              "      <td>1.000000</td>\n",
              "      <td>0.757213</td>\n",
              "      <td>0.109331</td>\n",
              "      <td>0.489548</td>\n",
              "      <td>0.063310</td>\n",
              "      <td>0.205536</td>\n",
              "      <td>-0.120765</td>\n",
              "      <td>0.687208</td>\n",
              "      <td>0.295832</td>\n",
              "      <td>0.464239</td>\n",
              "      <td>-0.218160</td>\n",
              "    </tr>\n",
              "    <tr>\n",
              "      <th>sqft_living</th>\n",
              "      <td>0.445494</td>\n",
              "      <td>0.596053</td>\n",
              "      <td>0.757213</td>\n",
              "      <td>1.000000</td>\n",
              "      <td>0.213268</td>\n",
              "      <td>0.343513</td>\n",
              "      <td>0.107758</td>\n",
              "      <td>0.309343</td>\n",
              "      <td>-0.062529</td>\n",
              "      <td>0.875657</td>\n",
              "      <td>0.449671</td>\n",
              "      <td>0.284733</td>\n",
              "      <td>-0.121589</td>\n",
              "    </tr>\n",
              "    <tr>\n",
              "      <th>sqft_lot</th>\n",
              "      <td>0.051347</td>\n",
              "      <td>0.071138</td>\n",
              "      <td>0.109331</td>\n",
              "      <td>0.213268</td>\n",
              "      <td>1.000000</td>\n",
              "      <td>0.004245</td>\n",
              "      <td>0.017408</td>\n",
              "      <td>0.072527</td>\n",
              "      <td>0.000929</td>\n",
              "      <td>0.219193</td>\n",
              "      <td>0.035894</td>\n",
              "      <td>0.049163</td>\n",
              "      <td>-0.021068</td>\n",
              "    </tr>\n",
              "    <tr>\n",
              "      <th>floors</th>\n",
              "      <td>0.152758</td>\n",
              "      <td>0.176219</td>\n",
              "      <td>0.489548</td>\n",
              "      <td>0.343513</td>\n",
              "      <td>0.004245</td>\n",
              "      <td>1.000000</td>\n",
              "      <td>0.015804</td>\n",
              "      <td>0.031980</td>\n",
              "      <td>-0.273786</td>\n",
              "      <td>0.522215</td>\n",
              "      <td>-0.255042</td>\n",
              "      <td>0.466691</td>\n",
              "      <td>-0.235969</td>\n",
              "    </tr>\n",
              "    <tr>\n",
              "      <th>waterfront</th>\n",
              "      <td>0.150083</td>\n",
              "      <td>-0.005521</td>\n",
              "      <td>0.063310</td>\n",
              "      <td>0.107758</td>\n",
              "      <td>0.017408</td>\n",
              "      <td>0.015804</td>\n",
              "      <td>1.000000</td>\n",
              "      <td>0.347572</td>\n",
              "      <td>0.006112</td>\n",
              "      <td>0.072502</td>\n",
              "      <td>0.088880</td>\n",
              "      <td>-0.032017</td>\n",
              "      <td>0.015821</td>\n",
              "    </tr>\n",
              "    <tr>\n",
              "      <th>view</th>\n",
              "      <td>0.242587</td>\n",
              "      <td>0.115080</td>\n",
              "      <td>0.205536</td>\n",
              "      <td>0.309343</td>\n",
              "      <td>0.072527</td>\n",
              "      <td>0.031980</td>\n",
              "      <td>0.347572</td>\n",
              "      <td>1.000000</td>\n",
              "      <td>0.062560</td>\n",
              "      <td>0.174629</td>\n",
              "      <td>0.317117</td>\n",
              "      <td>-0.066344</td>\n",
              "      <td>0.025846</td>\n",
              "    </tr>\n",
              "    <tr>\n",
              "      <th>condition</th>\n",
              "      <td>0.038892</td>\n",
              "      <td>0.023018</td>\n",
              "      <td>-0.120765</td>\n",
              "      <td>-0.062529</td>\n",
              "      <td>0.000929</td>\n",
              "      <td>-0.273786</td>\n",
              "      <td>0.006112</td>\n",
              "      <td>0.062560</td>\n",
              "      <td>1.000000</td>\n",
              "      <td>-0.176549</td>\n",
              "      <td>0.197144</td>\n",
              "      <td>-0.398886</td>\n",
              "      <td>-0.184483</td>\n",
              "    </tr>\n",
              "    <tr>\n",
              "      <th>sqft_above</th>\n",
              "      <td>0.380661</td>\n",
              "      <td>0.485672</td>\n",
              "      <td>0.687208</td>\n",
              "      <td>0.875657</td>\n",
              "      <td>0.219193</td>\n",
              "      <td>0.522215</td>\n",
              "      <td>0.072502</td>\n",
              "      <td>0.174629</td>\n",
              "      <td>-0.176549</td>\n",
              "      <td>1.000000</td>\n",
              "      <td>-0.037597</td>\n",
              "      <td>0.406436</td>\n",
              "      <td>-0.161281</td>\n",
              "    </tr>\n",
              "    <tr>\n",
              "      <th>sqft_basement</th>\n",
              "      <td>0.217782</td>\n",
              "      <td>0.335103</td>\n",
              "      <td>0.295832</td>\n",
              "      <td>0.449671</td>\n",
              "      <td>0.035894</td>\n",
              "      <td>-0.255042</td>\n",
              "      <td>0.088880</td>\n",
              "      <td>0.317117</td>\n",
              "      <td>0.197144</td>\n",
              "      <td>-0.037597</td>\n",
              "      <td>1.000000</td>\n",
              "      <td>-0.162538</td>\n",
              "      <td>0.046698</td>\n",
              "    </tr>\n",
              "    <tr>\n",
              "      <th>yr_built</th>\n",
              "      <td>0.021757</td>\n",
              "      <td>0.141498</td>\n",
              "      <td>0.464239</td>\n",
              "      <td>0.284733</td>\n",
              "      <td>0.049163</td>\n",
              "      <td>0.466691</td>\n",
              "      <td>-0.032017</td>\n",
              "      <td>-0.066344</td>\n",
              "      <td>-0.398886</td>\n",
              "      <td>0.406436</td>\n",
              "      <td>-0.162538</td>\n",
              "      <td>1.000000</td>\n",
              "      <td>-0.322938</td>\n",
              "    </tr>\n",
              "    <tr>\n",
              "      <th>yr_renovated</th>\n",
              "      <td>-0.029034</td>\n",
              "      <td>-0.062219</td>\n",
              "      <td>-0.218160</td>\n",
              "      <td>-0.121589</td>\n",
              "      <td>-0.021068</td>\n",
              "      <td>-0.235969</td>\n",
              "      <td>0.015821</td>\n",
              "      <td>0.025846</td>\n",
              "      <td>-0.184483</td>\n",
              "      <td>-0.161281</td>\n",
              "      <td>0.046698</td>\n",
              "      <td>-0.322938</td>\n",
              "      <td>1.000000</td>\n",
              "    </tr>\n",
              "  </tbody>\n",
              "</table>\n",
              "</div>"
            ],
            "text/plain": [
              "                  price  bedrooms  ...  yr_built  yr_renovated\n",
              "price          1.000000  0.210228  ...  0.021757     -0.029034\n",
              "bedrooms       0.210228  1.000000  ...  0.141498     -0.062219\n",
              "bathrooms      0.341126  0.547612  ...  0.464239     -0.218160\n",
              "sqft_living    0.445494  0.596053  ...  0.284733     -0.121589\n",
              "sqft_lot       0.051347  0.071138  ...  0.049163     -0.021068\n",
              "floors         0.152758  0.176219  ...  0.466691     -0.235969\n",
              "waterfront     0.150083 -0.005521  ... -0.032017      0.015821\n",
              "view           0.242587  0.115080  ... -0.066344      0.025846\n",
              "condition      0.038892  0.023018  ... -0.398886     -0.184483\n",
              "sqft_above     0.380661  0.485672  ...  0.406436     -0.161281\n",
              "sqft_basement  0.217782  0.335103  ... -0.162538      0.046698\n",
              "yr_built       0.021757  0.141498  ...  1.000000     -0.322938\n",
              "yr_renovated  -0.029034 -0.062219  ... -0.322938      1.000000\n",
              "\n",
              "[13 rows x 13 columns]"
            ]
          },
          "metadata": {},
          "execution_count": 49
        }
      ]
    },
    {
      "cell_type": "code",
      "metadata": {
        "colab": {
          "base_uri": "https://localhost:8080/",
          "height": 789
        },
        "id": "MzfVW4BuHyRN",
        "outputId": "0f372c51-dc1e-489d-be33-d96cea318541"
      },
      "source": [
        "# data.corr()\n",
        "mask = np.zeros_like(data_clean.corr(), dtype=np.bool) \n",
        "mask[np.triu_indices_from(mask)] = True \n",
        "\n",
        "f, ax = plt.subplots(figsize=(16, 12))\n",
        "plt.title('Pearson Correlation Matrix',fontsize=25)\n",
        "\n",
        "sns.heatmap(data_clean.corr(),linewidths=0.25,vmax=0.7,square=True,cmap=\"BuGn\", #\"BuGn_r\" to reverse \n",
        "            linecolor='w',annot=True,annot_kws={\"size\":8},mask=mask,cbar_kws={\"shrink\": .9});"
      ],
      "execution_count": 50,
      "outputs": [
        {
          "output_type": "display_data",
          "data": {
            "image/png": "[encoded data removed]",
            "text/plain": [
              "<Figure size 1152x864 with 2 Axes>"
            ]
          },
          "metadata": {
            "needs_background": "light"
          }
        }
      ]
    },
    {
      "cell_type": "code",
      "metadata": {
        "colab": {
          "base_uri": "https://localhost:8080/",
          "height": 145
        },
        "id": "1R9gkb4GJu0M",
        "outputId": "525908aa-59ea-493c-c42b-aefb7076f244"
      },
      "source": [
        "sns.pairplot(data=data_clean, y_vars=['price'])"
      ],
      "execution_count": 51,
      "outputs": [
        {
          "output_type": "execute_result",
          "data": {
            "text/plain": [
              "<seaborn.axisgrid.PairGrid at 0x7fe8a7dc6490>"
            ]
          },
          "metadata": {},
          "execution_count": 51
        },
        {
          "output_type": "display_data",
          "data": {
            "image/png": "[encoded data removed]",
            "text/plain": [
              "<Figure size 2340x180 with 14 Axes>"
            ]
          },
          "metadata": {
            "needs_background": "light"
          }
        }
      ]
    },
    {
      "cell_type": "markdown",
      "metadata": {
        "id": "Xz4tkg-LJiAd"
      },
      "source": [
        "#### **วิเคราะห์ข้อมูลเบื้องต้น**\n",
        "เมื่อดูจาก Pearson Correlation Matrix สามารถบอกได้ว่าคุณสมบัติในบ้านสัมพันธ์กับราคาบ้านอย่างไร จะเห็นได้ว่าคุณสมบัติที่มีความสัมพันธ์มากที่สุดคือ \n",
        "- `sqft_living` ด้วยค่าสัมประสิทธิ์ **0.6** ซึ่งสมเหตุสมผล เพราะยิ่งพื้นที่ใช้สอยเยอะราคาก็สูงขึ้น\n",
        "- คุณลักษณะที่สองที่มีความสัมพันธ์มากที่สุดคือ `sqft_above` ด้วย **0.48** \n",
        " \n",
        "อย่างไรก็ตามเนื่องด้วยคุณสมบัติทั้งสองตัวนี้มีความสัมพันธ์กันสูงมาก ด้วยค่าสัมประสิทธิ์ 0.84 อย่างไรก็ตามจึงไม่สามารถใช้ทั้ง `sqft_living` `sqft_above` ได้ - ปัญหา **Multicollinearity**\n",
        "\n",
        "ดังนั้นแนวทางปฏิบัติที่ดีที่สุดคือการเลือกคุณสมบัติตัวใดตัวหนึ่ง ในกรณีนี้จะเลือก `sqft_living`"
      ]
    },
    {
      "cell_type": "markdown",
      "metadata": {
        "id": "iDWl62W8WAjD"
      },
      "source": [
        "## Model Fitting"
      ]
    },
    {
      "cell_type": "markdown",
      "metadata": {
        "id": "hJQ6WbN62gsR"
      },
      "source": [
        "**กำหนดตัวแปรต้น (X) และตัวแปรตาม (y)**"
      ]
    },
    {
      "cell_type": "code",
      "metadata": {
        "id": "a9lm5oUUOGEn"
      },
      "source": [
        "X = data_clean.drop(['price','sqft_above'], axis=1)"
      ],
      "execution_count": 52,
      "outputs": []
    },
    {
      "cell_type": "code",
      "metadata": {
        "id": "eyT6ElQGOaq0"
      },
      "source": [
        "y = data_clean['price']"
      ],
      "execution_count": 53,
      "outputs": []
    },
    {
      "cell_type": "markdown",
      "metadata": {
        "id": "dDpZOZFg2Xtj"
      },
      "source": [
        "<!-- **Use model_selection.train_test_split from sklearn to split the data into training and testing sets. Set test_size=0.3 and random_state=101** -->\n",
        "\n",
        "**แบ่งข้อมูลเป็น 2 ชุดคือ Training Data กับ Testing Data โดยใช้คำสั่ง `train_test_split` โดยให้ `test_size=0.3` และ `random_state=101`**"
      ]
    },
    {
      "cell_type": "code",
      "metadata": {
        "id": "abuGK5cSOoQn"
      },
      "source": [
        "X_train, X_test, y_train, y_test = train_test_split(X, y, test_size=0.3, random_state=101)"
      ],
      "execution_count": 54,
      "outputs": []
    },
    {
      "cell_type": "code",
      "metadata": {
        "id": "o7_EgCS1OxrT"
      },
      "source": [
        "model = LinearRegression()"
      ],
      "execution_count": 55,
      "outputs": []
    },
    {
      "cell_type": "code",
      "metadata": {
        "colab": {
          "base_uri": "https://localhost:8080/"
        },
        "id": "GuU-3lQ_O5hq",
        "outputId": "be6e13d7-de3a-44ff-e3b2-fe6b0caa897f"
      },
      "source": [
        "model.fit(X_train, y_train)"
      ],
      "execution_count": 56,
      "outputs": [
        {
          "output_type": "execute_result",
          "data": {
            "text/plain": [
              "LinearRegression(copy_X=True, fit_intercept=True, n_jobs=None, normalize=False)"
            ]
          },
          "metadata": {},
          "execution_count": 56
        }
      ]
    },
    {
      "cell_type": "markdown",
      "metadata": {
        "id": "C8XTqS4-2rgy"
      },
      "source": [
        "**ตรวจสอบ coefficients ของโมเดล**"
      ]
    },
    {
      "cell_type": "code",
      "metadata": {
        "colab": {
          "base_uri": "https://localhost:8080/"
        },
        "id": "T9rYJwC4O-B0",
        "outputId": "fb41e6a4-3422-4b3b-e3c8-ea79529016aa"
      },
      "source": [
        "model.coef_"
      ],
      "execution_count": 57,
      "outputs": [
        {
          "output_type": "execute_result",
          "data": {
            "text/plain": [
              "array([-3.79513647e+04,  3.43290282e+04,  2.03961372e+02, -6.67703516e+00,\n",
              "        4.13476532e+04,  6.24448448e+04,  3.60614546e+04,  3.17152843e+04,\n",
              "       -8.26498705e+00, -1.81893321e+03,  5.80779033e+00])"
            ]
          },
          "metadata": {},
          "execution_count": 57
        }
      ]
    },
    {
      "cell_type": "code",
      "metadata": {
        "colab": {
          "base_uri": "https://localhost:8080/",
          "height": 388
        },
        "id": "VsWtsbGuPCbK",
        "outputId": "df0f6a08-5778-44c8-fe92-bb9484aee13b"
      },
      "source": [
        "pd.DataFrame(model.coef_, index=X.columns, columns=['Coeff'])"
      ],
      "execution_count": 58,
      "outputs": [
        {
          "output_type": "execute_result",
          "data": {
            "text/html": [
              "<div>\n",
              "<style scoped>\n",
              "    .dataframe tbody tr th:only-of-type {\n",
              "        vertical-align: middle;\n",
              "    }\n",
              "\n",
              "    .dataframe tbody tr th {\n",
              "        vertical-align: top;\n",
              "    }\n",
              "\n",
              "    .dataframe thead th {\n",
              "        text-align: right;\n",
              "    }\n",
              "</style>\n",
              "<table border=\"1\" class=\"dataframe\">\n",
              "  <thead>\n",
              "    <tr style=\"text-align: right;\">\n",
              "      <th></th>\n",
              "      <th>Coeff</th>\n",
              "    </tr>\n",
              "  </thead>\n",
              "  <tbody>\n",
              "    <tr>\n",
              "      <th>bedrooms</th>\n",
              "      <td>-37951.364728</td>\n",
              "    </tr>\n",
              "    <tr>\n",
              "      <th>bathrooms</th>\n",
              "      <td>34329.028243</td>\n",
              "    </tr>\n",
              "    <tr>\n",
              "      <th>sqft_living</th>\n",
              "      <td>203.961372</td>\n",
              "    </tr>\n",
              "    <tr>\n",
              "      <th>sqft_lot</th>\n",
              "      <td>-6.677035</td>\n",
              "    </tr>\n",
              "    <tr>\n",
              "      <th>floors</th>\n",
              "      <td>41347.653159</td>\n",
              "    </tr>\n",
              "    <tr>\n",
              "      <th>waterfront</th>\n",
              "      <td>62444.844796</td>\n",
              "    </tr>\n",
              "    <tr>\n",
              "      <th>view</th>\n",
              "      <td>36061.454585</td>\n",
              "    </tr>\n",
              "    <tr>\n",
              "      <th>condition</th>\n",
              "      <td>31715.284271</td>\n",
              "    </tr>\n",
              "    <tr>\n",
              "      <th>sqft_basement</th>\n",
              "      <td>-8.264987</td>\n",
              "    </tr>\n",
              "    <tr>\n",
              "      <th>yr_built</th>\n",
              "      <td>-1818.933207</td>\n",
              "    </tr>\n",
              "    <tr>\n",
              "      <th>yr_renovated</th>\n",
              "      <td>5.807790</td>\n",
              "    </tr>\n",
              "  </tbody>\n",
              "</table>\n",
              "</div>"
            ],
            "text/plain": [
              "                      Coeff\n",
              "bedrooms      -37951.364728\n",
              "bathrooms      34329.028243\n",
              "sqft_living      203.961372\n",
              "sqft_lot          -6.677035\n",
              "floors         41347.653159\n",
              "waterfront     62444.844796\n",
              "view           36061.454585\n",
              "condition      31715.284271\n",
              "sqft_basement     -8.264987\n",
              "yr_built       -1818.933207\n",
              "yr_renovated       5.807790"
            ]
          },
          "metadata": {},
          "execution_count": 58
        }
      ]
    },
    {
      "cell_type": "markdown",
      "metadata": {
        "id": "sgNAOqEn2xGy"
      },
      "source": [
        "## Making Predictions\n",
        "**Predicting Test Data ใช้โมเดลที่เราได้มาพยากรณ์ (predict) ผลลัพธ์**"
      ]
    },
    {
      "cell_type": "code",
      "metadata": {
        "id": "Bl1jyeQvPvht"
      },
      "source": [
        "y_pred = model.predict(X_test)"
      ],
      "execution_count": 59,
      "outputs": []
    },
    {
      "cell_type": "markdown",
      "metadata": {
        "id": "1J_0qDEt21fe"
      },
      "source": [
        "**วาด scatterplot เพื่อเปรียบเทียบ y_test และ y_pred**"
      ]
    },
    {
      "cell_type": "code",
      "metadata": {
        "colab": {
          "base_uri": "https://localhost:8080/",
          "height": 279
        },
        "id": "BFpsSipOTs24",
        "outputId": "d9e7c80d-3753-433b-c0e8-bcd19acb2179"
      },
      "source": [
        "plt.scatter(y_test, y_pred)\n",
        "plt.plot(y_pred, y_pred)\n",
        "plt.xlabel('Y Test')\n",
        "plt.ylabel('Y Predicted')\n",
        "plt.show()"
      ],
      "execution_count": 60,
      "outputs": [
        {
          "output_type": "display_data",
          "data": {
            "image/png": "[encoded data removed]",
            "text/plain": [
              "<Figure size 432x288 with 1 Axes>"
            ]
          },
          "metadata": {
            "needs_background": "light"
          }
        }
      ]
    },
    {
      "cell_type": "markdown",
      "metadata": {
        "id": "_QcilDgA3DMq"
      },
      "source": [
        "**ประเมินความถูกต้องของโมเดล ด้วยการคำนวณค่า MSE, RMSE, R2, MAPE**"
      ]
    },
    {
      "cell_type": "code",
      "metadata": {
        "colab": {
          "base_uri": "https://localhost:8080/"
        },
        "id": "tzf8nVYaTwzz",
        "outputId": "08ab67b8-397d-4b0d-be40-9950218a3906"
      },
      "source": [
        "mae = metrics.mean_absolute_error(y_test, y_pred)\n",
        "mse = metrics.mean_squared_error(y_test, y_pred)\n",
        "rmse = np.sqrt(mse)\n",
        "\n",
        "print(f'Mean Absulute Error: {mae}')\n",
        "print(f'Mean Square Error: {mse}')\n",
        "print(f'Root Mean Square Error : {rmse}')\n",
        "print(f\"R2_score = {metrics.r2_score(y_test, y_pred)}\")"
      ],
      "execution_count": 61,
      "outputs": [
        {
          "output_type": "stream",
          "name": "stdout",
          "text": [
            "Mean Absulute Error: 118010.51304334936\n",
            "Mean Square Error: 22175092616.59502\n",
            "Root Mean Square Error : 148913.03709412087\n",
            "R2_score = 0.47424037944666386\n"
          ]
        }
      ]
    },
    {
      "cell_type": "code",
      "metadata": {
        "colab": {
          "base_uri": "https://localhost:8080/"
        },
        "id": "5gzncX0nIu1C",
        "outputId": "272e52b2-c5c4-4c6a-f4e4-1fb4c78071ee"
      },
      "source": [
        "y.describe()"
      ],
      "execution_count": 62,
      "outputs": [
        {
          "output_type": "execute_result",
          "data": {
            "text/plain": [
              "count    3.758000e+03\n",
              "mean     4.709236e+05\n",
              "std      2.057531e+05\n",
              "min      7.800000e+03\n",
              "25%      3.100000e+05\n",
              "50%      4.350000e+05\n",
              "75%      5.924625e+05\n",
              "max      1.150000e+06\n",
              "Name: price, dtype: float64"
            ]
          },
          "metadata": {},
          "execution_count": 62
        }
      ]
    },
    {
      "cell_type": "markdown",
      "metadata": {
        "id": "creXWQ7gWe92"
      },
      "source": [
        "## Formatting Data (Optional)\n",
        "\n",
        "เนื่องจากข้อมูลใน feature `yr_built` และ `yr_renovated` เป็นปี คศ. จึงควรแก้ไขข้อมูลเพื่อให้เหมาะสมต่อการทำไปสร้าง model\n",
        "- `yr_built` เปลี่ยนจากปี คศ. เป็นจำนวนปีนับจากปีปัจจุบัน\n",
        "- `yr_renovate` ถ้าข้อมูลเป็น 0 (ไม่เคยถูก renovate) ให้แก้ไขค่ามาเป็นปีเดียวกับ `yr_built` จากนั้น เปลี่ยนจากปี คศ. เป็นจำนวนปีนับจากปีปัจจุบัน"
      ]
    },
    {
      "cell_type": "code",
      "metadata": {
        "id": "S2KYz0YrJDe1"
      },
      "source": [
        "from datetime import datetime"
      ],
      "execution_count": 63,
      "outputs": []
    },
    {
      "cell_type": "code",
      "metadata": {
        "colab": {
          "base_uri": "https://localhost:8080/"
        },
        "id": "6KudrCW6JKOX",
        "outputId": "bddcde90-0791-4bbd-bc30-36a93442d8ef"
      },
      "source": [
        "current_year = datetime.now().year\n",
        "current_year"
      ],
      "execution_count": 64,
      "outputs": [
        {
          "output_type": "execute_result",
          "data": {
            "text/plain": [
              "2021"
            ]
          },
          "metadata": {},
          "execution_count": 64
        }
      ]
    },
    {
      "cell_type": "code",
      "metadata": {
        "colab": {
          "base_uri": "https://localhost:8080/",
          "height": 417
        },
        "id": "mKqDWgatJTUH",
        "outputId": "bcfb34bc-0e78-4a39-d27f-f21d258be39d"
      },
      "source": [
        "new_X = X.copy()\n",
        "new_X['age'] = current_year - new_X['yr_built']\n",
        "new_X.loc[new_X['yr_renovated'] == 0, 'yr_renovated'] = new_X['yr_built']\n",
        "new_X['age_renovated'] = current_year - new_X['yr_renovated']\n",
        "new_X"
      ],
      "execution_count": 65,
      "outputs": [
        {
          "output_type": "execute_result",
          "data": {
            "text/html": [
              "<div>\n",
              "<style scoped>\n",
              "    .dataframe tbody tr th:only-of-type {\n",
              "        vertical-align: middle;\n",
              "    }\n",
              "\n",
              "    .dataframe tbody tr th {\n",
              "        vertical-align: top;\n",
              "    }\n",
              "\n",
              "    .dataframe thead th {\n",
              "        text-align: right;\n",
              "    }\n",
              "</style>\n",
              "<table border=\"1\" class=\"dataframe\">\n",
              "  <thead>\n",
              "    <tr style=\"text-align: right;\">\n",
              "      <th></th>\n",
              "      <th>bedrooms</th>\n",
              "      <th>bathrooms</th>\n",
              "      <th>sqft_living</th>\n",
              "      <th>sqft_lot</th>\n",
              "      <th>floors</th>\n",
              "      <th>waterfront</th>\n",
              "      <th>view</th>\n",
              "      <th>condition</th>\n",
              "      <th>sqft_basement</th>\n",
              "      <th>yr_built</th>\n",
              "      <th>yr_renovated</th>\n",
              "      <th>age</th>\n",
              "      <th>age_renovated</th>\n",
              "    </tr>\n",
              "  </thead>\n",
              "  <tbody>\n",
              "    <tr>\n",
              "      <th>0</th>\n",
              "      <td>3.0</td>\n",
              "      <td>1.50</td>\n",
              "      <td>1340</td>\n",
              "      <td>7912</td>\n",
              "      <td>1.5</td>\n",
              "      <td>0</td>\n",
              "      <td>0</td>\n",
              "      <td>3</td>\n",
              "      <td>0</td>\n",
              "      <td>1955</td>\n",
              "      <td>2005</td>\n",
              "      <td>66</td>\n",
              "      <td>16</td>\n",
              "    </tr>\n",
              "    <tr>\n",
              "      <th>2</th>\n",
              "      <td>3.0</td>\n",
              "      <td>2.00</td>\n",
              "      <td>1930</td>\n",
              "      <td>11947</td>\n",
              "      <td>1.0</td>\n",
              "      <td>0</td>\n",
              "      <td>0</td>\n",
              "      <td>4</td>\n",
              "      <td>0</td>\n",
              "      <td>1966</td>\n",
              "      <td>1966</td>\n",
              "      <td>55</td>\n",
              "      <td>55</td>\n",
              "    </tr>\n",
              "    <tr>\n",
              "      <th>3</th>\n",
              "      <td>3.0</td>\n",
              "      <td>2.25</td>\n",
              "      <td>2000</td>\n",
              "      <td>8030</td>\n",
              "      <td>1.0</td>\n",
              "      <td>0</td>\n",
              "      <td>0</td>\n",
              "      <td>4</td>\n",
              "      <td>1000</td>\n",
              "      <td>1963</td>\n",
              "      <td>1963</td>\n",
              "      <td>58</td>\n",
              "      <td>58</td>\n",
              "    </tr>\n",
              "    <tr>\n",
              "      <th>4</th>\n",
              "      <td>4.0</td>\n",
              "      <td>2.50</td>\n",
              "      <td>1940</td>\n",
              "      <td>10500</td>\n",
              "      <td>1.0</td>\n",
              "      <td>0</td>\n",
              "      <td>0</td>\n",
              "      <td>4</td>\n",
              "      <td>800</td>\n",
              "      <td>1976</td>\n",
              "      <td>1992</td>\n",
              "      <td>45</td>\n",
              "      <td>29</td>\n",
              "    </tr>\n",
              "    <tr>\n",
              "      <th>5</th>\n",
              "      <td>2.0</td>\n",
              "      <td>1.00</td>\n",
              "      <td>880</td>\n",
              "      <td>6380</td>\n",
              "      <td>1.0</td>\n",
              "      <td>0</td>\n",
              "      <td>0</td>\n",
              "      <td>3</td>\n",
              "      <td>0</td>\n",
              "      <td>1938</td>\n",
              "      <td>1994</td>\n",
              "      <td>83</td>\n",
              "      <td>27</td>\n",
              "    </tr>\n",
              "    <tr>\n",
              "      <th>...</th>\n",
              "      <td>...</td>\n",
              "      <td>...</td>\n",
              "      <td>...</td>\n",
              "      <td>...</td>\n",
              "      <td>...</td>\n",
              "      <td>...</td>\n",
              "      <td>...</td>\n",
              "      <td>...</td>\n",
              "      <td>...</td>\n",
              "      <td>...</td>\n",
              "      <td>...</td>\n",
              "      <td>...</td>\n",
              "      <td>...</td>\n",
              "    </tr>\n",
              "    <tr>\n",
              "      <th>4595</th>\n",
              "      <td>3.0</td>\n",
              "      <td>1.75</td>\n",
              "      <td>1510</td>\n",
              "      <td>6360</td>\n",
              "      <td>1.0</td>\n",
              "      <td>0</td>\n",
              "      <td>0</td>\n",
              "      <td>4</td>\n",
              "      <td>0</td>\n",
              "      <td>1954</td>\n",
              "      <td>1979</td>\n",
              "      <td>67</td>\n",
              "      <td>42</td>\n",
              "    </tr>\n",
              "    <tr>\n",
              "      <th>4596</th>\n",
              "      <td>3.0</td>\n",
              "      <td>2.50</td>\n",
              "      <td>1460</td>\n",
              "      <td>7573</td>\n",
              "      <td>2.0</td>\n",
              "      <td>0</td>\n",
              "      <td>0</td>\n",
              "      <td>3</td>\n",
              "      <td>0</td>\n",
              "      <td>1983</td>\n",
              "      <td>2009</td>\n",
              "      <td>38</td>\n",
              "      <td>12</td>\n",
              "    </tr>\n",
              "    <tr>\n",
              "      <th>4597</th>\n",
              "      <td>3.0</td>\n",
              "      <td>2.50</td>\n",
              "      <td>3010</td>\n",
              "      <td>7014</td>\n",
              "      <td>2.0</td>\n",
              "      <td>0</td>\n",
              "      <td>0</td>\n",
              "      <td>3</td>\n",
              "      <td>0</td>\n",
              "      <td>2009</td>\n",
              "      <td>2009</td>\n",
              "      <td>12</td>\n",
              "      <td>12</td>\n",
              "    </tr>\n",
              "    <tr>\n",
              "      <th>4598</th>\n",
              "      <td>4.0</td>\n",
              "      <td>2.00</td>\n",
              "      <td>2090</td>\n",
              "      <td>6630</td>\n",
              "      <td>1.0</td>\n",
              "      <td>0</td>\n",
              "      <td>0</td>\n",
              "      <td>3</td>\n",
              "      <td>1020</td>\n",
              "      <td>1974</td>\n",
              "      <td>1974</td>\n",
              "      <td>47</td>\n",
              "      <td>47</td>\n",
              "    </tr>\n",
              "    <tr>\n",
              "      <th>4599</th>\n",
              "      <td>3.0</td>\n",
              "      <td>2.50</td>\n",
              "      <td>1490</td>\n",
              "      <td>8102</td>\n",
              "      <td>2.0</td>\n",
              "      <td>0</td>\n",
              "      <td>0</td>\n",
              "      <td>4</td>\n",
              "      <td>0</td>\n",
              "      <td>1990</td>\n",
              "      <td>1990</td>\n",
              "      <td>31</td>\n",
              "      <td>31</td>\n",
              "    </tr>\n",
              "  </tbody>\n",
              "</table>\n",
              "<p>3758 rows × 13 columns</p>\n",
              "</div>"
            ],
            "text/plain": [
              "      bedrooms  bathrooms  sqft_living  ...  yr_renovated  age  age_renovated\n",
              "0          3.0       1.50         1340  ...          2005   66             16\n",
              "2          3.0       2.00         1930  ...          1966   55             55\n",
              "3          3.0       2.25         2000  ...          1963   58             58\n",
              "4          4.0       2.50         1940  ...          1992   45             29\n",
              "5          2.0       1.00          880  ...          1994   83             27\n",
              "...        ...        ...          ...  ...           ...  ...            ...\n",
              "4595       3.0       1.75         1510  ...          1979   67             42\n",
              "4596       3.0       2.50         1460  ...          2009   38             12\n",
              "4597       3.0       2.50         3010  ...          2009   12             12\n",
              "4598       4.0       2.00         2090  ...          1974   47             47\n",
              "4599       3.0       2.50         1490  ...          1990   31             31\n",
              "\n",
              "[3758 rows x 13 columns]"
            ]
          },
          "metadata": {},
          "execution_count": 65
        }
      ]
    }
  ]
}